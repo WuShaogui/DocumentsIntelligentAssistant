{
 "cells": [
  {
   "cell_type": "markdown",
   "metadata": {},
   "source": [
    "本脚本目的为了解析pdf，将文字及图片提取出来"
   ]
  },
  {
   "cell_type": "markdown",
   "metadata": {},
   "source": [
    "# 使用langchian自带工具提取\n",
    "\n",
    "看看是否能提取双栏布局、图片信息"
   ]
  },
  {
   "cell_type": "code",
   "execution_count": 1,
   "metadata": {},
   "outputs": [],
   "source": [
    "from langchain.document_loaders import PyPDFLoader\n",
    "\n",
    "# 定义文本加载器，指定读取的文件路径\n",
    "loader = PyPDFLoader(\"data.pdf\")\n",
    "documents=loader.load()"
   ]
  },
  {
   "cell_type": "code",
   "execution_count": 8,
   "metadata": {},
   "outputs": [
    {
     "data": {
      "text/markdown": [
       "装载货物\n",
       "28\n",
       "注意！\n",
       "■ 在将座椅靠背向下折叠之前，移除头枕。否则，头枕可能会受到\n",
       "损坏。\n",
       "■ 折叠座椅靠背前，确保座椅上没有物体且两侧安全带绕开座椅靠\n",
       "背，否则座椅可能会受到损坏。\n",
       "使用手套箱密码保护\n",
       "您可以使用密码锁功能锁住手套箱。当您的车辆停在维修站或者使用\n",
       "代客泊车服务时，该功能可以避免手套箱被打开。\n",
       "启用/停用手套箱密码保护功能\n",
       "在中央显示屏中点击\n",
       " -座舱体验-快捷设置，进入快捷设置界面。\n",
       "01 点击启用/停用手套箱密码保护功能。\n",
       "■ 锁止：点击快捷设置功能界面中的手套箱密码锁按键，在弹出界\n",
       "面中设定密码，锁止手套箱。\n",
       "■ 解锁：点击快捷设置功能界面中的手套箱密码锁按键或按下手套\n",
       "箱开关，在弹出界面中输入密码解锁手套箱。\n",
       "说明！\n",
       "□ 通过密码解锁手套箱后，手套箱密码保护功能自动关闭，如需使\n",
       "用需重新开启。\n",
       "□ 解锁手套箱时，若密码输入错误超过五次，手套箱密码保护功能\n",
       "将进入保护状态，2 分钟后才可再次输入密码。此时，您也可以\n",
       "通过手机验证码进行解锁。\n",
       "后备厢载物\n",
       "后备厢具备有用于固定行李件的挂钩。\n"
      ],
      "text/plain": [
       "<IPython.core.display.Markdown object>"
      ]
     },
     "metadata": {},
     "output_type": "display_data"
    }
   ],
   "source": [
    "from IPython.display import Markdown\n",
    "\n",
    "display(Markdown(documents[27].page_content))"
   ]
  },
  {
   "cell_type": "markdown",
   "metadata": {},
   "source": [
    "观察文档发现：文档按3级层次编写，如(泊车-泊车辅助摄像头局限性-具体内容)，文字内容、图片在第三级别上，所以我们解析最好按照这个格式处理\n",
    "\n",
    "由于langchian自带解析器无法进行自定义解析，因此自定义pdf解析器"
   ]
  },
  {
   "cell_type": "markdown",
   "metadata": {},
   "source": [
    "## 自定义解析器"
   ]
  },
  {
   "cell_type": "code",
   "execution_count": 1,
   "metadata": {},
   "outputs": [],
   "source": [
    "import io\n",
    "import os\n",
    "from PIL import Image\n",
    "import numpy as np\n",
    "import matplotlib.pyplot as plt\n",
    "import pymupdf # imports the pymupdf library\n",
    "\n",
    "pages = pymupdf.open(\"data.pdf\") # open a document\n",
    "\n",
    "img_idx=0\n",
    "doc_idx=0\n",
    "save_flag=False\n",
    "lines_text=''\n",
    "save_page_idx=''\n",
    "save_page_type=''\n",
    "\n",
    "for _,page in enumerate(pages):\n",
    "    page_text = page.get_text(\"dict\")\n",
    "    blocks = page_text[\"blocks\"]  # the list of block dictionaries\n",
    "    \n",
    "    if len(blocks)<=2:\n",
    "        continue\n",
    "    # print(blocks)\n",
    "    page_type=blocks[0]['lines'][0]['spans'][0]['text']\n",
    "    page_idx=str(blocks[1]['lines'][0]['spans'][0]['text'])\n",
    "\n",
    "    for idx in range(2,len(blocks)):\n",
    "        block=blocks[idx]\n",
    "        # print(block)\n",
    "        if block[\"type\"] == 0:\n",
    "            lines=block['lines']\n",
    "            for line in lines:\n",
    "                spans=line['spans']\n",
    "                spans_text=''\n",
    "                for span in spans:\n",
    "                    if span['size']>9.9 and span['font']=='FZLTZCHK--GBK1-0':\n",
    "                        if save_flag==True and len(lines_text)>0:\n",
    "                            with open(f'docs/doc{save_page_idx}-{save_page_type}-{doc_idx}.md','w') as fw:\n",
    "                                fw.write(lines_text)\n",
    "                            lines_text=''\n",
    "                            if spans_text.startswith('#'):\n",
    "                                spans_text+=span['text']\n",
    "                            else:\n",
    "                                spans_text=\"# \"+span['text']\n",
    "                            doc_idx+=1\n",
    "                            save_flag=False\n",
    "                        else:\n",
    "                            if spans_text.startswith('#'):\n",
    "                                spans_text+=span['text']\n",
    "                            else:\n",
    "                                spans_text=\"# \"+span['text']\n",
    "                    else:\n",
    "                        if span['size']>9.9 and span['font']=='FZLTHJW--GB1-0':\n",
    "                            if spans_text.startswith('##'):\n",
    "                                spans_text+=span['text']\n",
    "                            else:\n",
    "                                spans_text=\"## \"+span['text']\n",
    "                        else:\n",
    "                            save_flag=True\n",
    "                            save_page_idx=page_idx\n",
    "                            save_page_type=page_type\n",
    "                            spans_text+=span['text']\n",
    "\n",
    "                lines_text+=spans_text+'\\n'\n",
    "        if block[\"type\"] == 1:\n",
    "            img_bytes=block['image']\n",
    "            width=block['width']\n",
    "            height=block['height']\n",
    "            colorspace=block['colorspace']\n",
    "            image_data=io.BytesIO(img_bytes)\n",
    "            img=Image.open(image_data)\n",
    "            \n",
    "            if width >500 and height>500:\n",
    "                image_name=f'img{page_idx}-{img_idx}'+'.png'\n",
    "                img.save(os.path.join('images',image_name),format='png')\n",
    "                lines_text+='|'+image_name+'|'\n",
    "                img_idx+=1\n",
    "\n",
    "with open(f'docs/doc{save_page_idx}-{doc_idx}.md','w') as fw:\n",
    "    fw.write(lines_text)"
   ]
  },
  {
   "cell_type": "markdown",
   "metadata": {},
   "source": [
    "加载效果展示：\n",
    "\n",
    "![1](doc/2024-12-17_114000.png)\n",
    "\n",
    "上图能应对双栏排版，但是无法提取图片\n",
    "\n",
    "![2](doc/2024-12-17_114753.png)\n",
    "\n",
    "上图不能识别同一标题下的跨页问题"
   ]
  },
  {
   "cell_type": "markdown",
   "metadata": {},
   "source": [
    "以上代码将pdf拆分为\"标题-内容'的格式，并将每个标题内容保存，命名为“页号-文档类型-内容编号”，如下图所示\n",
    "\n",
    "![alt text](doc/2024-12-17_164623.png)\n",
    "\n",
    "注意：文档内容包括了图片"
   ]
  }
 ],
 "metadata": {
  "kernelspec": {
   "display_name": "base",
   "language": "python",
   "name": "python3"
  },
  "language_info": {
   "codemirror_mode": {
    "name": "ipython",
    "version": 3
   },
   "file_extension": ".py",
   "mimetype": "text/x-python",
   "name": "python",
   "nbconvert_exporter": "python",
   "pygments_lexer": "ipython3",
   "version": "3.10.14"
  }
 },
 "nbformat": 4,
 "nbformat_minor": 2
}
