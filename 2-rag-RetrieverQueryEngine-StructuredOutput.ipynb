{
 "cells": [
  {
   "cell_type": "code",
   "execution_count": 1,
   "metadata": {},
   "outputs": [],
   "source": [
    "import os\n",
    "import re\n",
    "\n",
    "from llama_index.core import Settings\n",
    "from llama_index.llms.ollama import Ollama\n",
    "from llama_index.embeddings.ollama import OllamaEmbedding\n",
    "from llama_index.core import VectorStoreIndex\n",
    "from llama_index.core import StorageContext,load_index_from_storage"
   ]
  },
  {
   "cell_type": "code",
   "execution_count": 2,
   "metadata": {},
   "outputs": [],
   "source": [
    "# 设置llm模型\n",
    "llm_name=\"qwen2.5:latest\"\n",
    "embedding_name=\"quentinz/bge-large-zh-v1.5:latest\"\n",
    "base_url='http://localhost:11434'\n",
    "\n",
    "Settings.llm = Ollama(\n",
    "    model=llm_name, \n",
    "    request_timeout=360.0,\n",
    "    base_url=base_url)\n",
    "\n",
    "# 设置embedding model \n",
    "Settings.embed_model = OllamaEmbedding(\n",
    "    model_name=embedding_name,\n",
    "    base_url=base_url)"
   ]
  },
  {
   "cell_type": "code",
   "execution_count": null,
   "metadata": {},
   "outputs": [
    {
     "name": "stdout",
     "output_type": "stream",
     "text": [
      "{'file_path': './preprocess\\\\doc99-安全出行-73.md', 'page_number': 118, '通过空调辅助功能菜单调节': ['images\\\\img117-125.png'], '设置前排座椅通风时间': ['images\\\\img118-126.png']}\n"
     ]
    }
   ],
   "source": [
    "import glob\n",
    "from copy import deepcopy\n",
    "from llama_index.core.schema import Document,TextNode\n",
    "\n",
    "def extract_images_under_headers(md_content):\n",
    "    headers = re.findall(r'## (.*?)\\n+(.*?)(?=\\n##|\\Z)', md_content, re.DOTALL)\n",
    "    \n",
    "    images_under_headers = {}\n",
    "    for header, content in headers:\n",
    "        images = re.findall(r'!\\[.*?\\]\\((.*?)\\)', content)\n",
    "        images_under_headers[header] = images\n",
    "    return images_under_headers\n",
    "\n",
    "documents=[]\n",
    "md_files=glob.glob('./preprocess/*.md')\n",
    "for md_file in md_files:\n",
    "    with open(md_file,encoding='utf-8') as fr:\n",
    "        md_content='\\n'.join(fr.readlines())\n",
    "    page_num=int(os.path.basename(md_file).split('-')[0][3:])\n",
    "    documents.append((page_num,md_content))\n",
    "\n",
    "def get_page_nodes(docs,separator=\"\\n---\\n\"):\n",
    "    nodes=[]\n",
    "    for idx,doc in docs:\n",
    "        doc_chunks=doc.split(separator)\n",
    "        for doc_chunk in doc_chunks:\n",
    "            images_under_headers=extract_images_under_headers(doc_chunk)\n",
    "\n",
    "            filter_header_images={}\n",
    "            for header in images_under_headers:\n",
    "                if len(images_under_headers[header])>0:\n",
    "                    filter_header_images[header]=images_under_headers[header]\n",
    "            metadata={'file_path':md_file,'page_number':idx}\n",
    "            if len(filter_header_images)>0:\n",
    "                metadata.update(filter_header_images)\n",
    "                # 去掉内容中的图片文本\n",
    "                pattern = r\"!{1}\\[.*\\)\"\n",
    "                doc_chunk= re.sub(pattern, \"\\n\", doc_chunk)\n",
    "            else:\n",
    "                pass\n",
    "\n",
    "            node=TextNode(\n",
    "                text=doc_chunk,\n",
    "                metadata=deepcopy(metadata),\n",
    "            )\n",
    "        nodes.append(node)\n",
    "    return nodes\n",
    "\n",
    "\n",
    "nodes=get_page_nodes(documents)\n",
    "print(nodes[12].metadata)"
   ]
  },
  {
   "cell_type": "code",
   "execution_count": 4,
   "metadata": {},
   "outputs": [],
   "source": [
    "from llama_index.postprocessor.xinference_rerank import XinferenceRerank\n",
    "from llama_index.core.postprocessor import LLMRerank\n",
    "\n",
    "# node_postprocessors=[XinferenceRerank(top_n=5,model='bge-reranker-large',base_url='http://192.168.3.155:9997')]\n",
    "node_postprocessors=[LLMRerank(top_n=10)]"
   ]
  },
  {
   "cell_type": "code",
   "execution_count": 5,
   "metadata": {},
   "outputs": [],
   "source": [
    "from pydantic import BaseModel, Field\n",
    "from typing import List\n",
    "\n",
    "\n",
    "class Output(BaseModel):\n",
    "    \"\"\"Output containing the response, page numbers, images, and confidence.\"\"\"\n",
    "\n",
    "    response: str = Field(..., description=\"The answer to the question.\")\n",
    "    page_numbers: List[int] = Field(\n",
    "        ...,\n",
    "        description=\"The page numbers of the sources used to answer this question. Do not include a page number if the context is irrelevant.\",\n",
    "    )\n",
    "    page_images: List[str] = Field(...,description=\"The images used to answer this question, given only image name, do not format using markdown\")\n",
    "    confidence: float = Field(\n",
    "        ...,\n",
    "        description=\"Confidence value between 0-1 of the correctness of the result.\",\n",
    "    )\n",
    "    confidence_explanation: str = Field(\n",
    "        ..., description=\"Explanation for the confidence score\"\n",
    "    )\n",
    "    \n",
    "llm = Ollama(\n",
    "    model=llm_name, \n",
    "    request_timeout=360.0,\n",
    "    base_url=base_url)\n",
    "\n",
    "sllm = llm.as_structured_llm(output_cls=Output)"
   ]
  },
  {
   "cell_type": "code",
   "execution_count": 6,
   "metadata": {},
   "outputs": [
    {
     "name": "stderr",
     "output_type": "stream",
     "text": [
      "c:\\Users\\wushaogui\\miniconda3\\envs\\langchian\\lib\\site-packages\\tqdm\\auto.py:21: TqdmWarning: IProgress not found. Please update jupyter and ipywidgets. See https://ipywidgets.readthedocs.io/en/stable/user_install.html\n",
      "  from .autonotebook import tqdm as notebook_tqdm\n",
      "Generating embeddings: 100%|██████████| 223/223 [00:09<00:00, 22.34it/s]\n"
     ]
    }
   ],
   "source": [
    "import glob\n",
    "from llama_index.core.schema import TextNode\n",
    "\n",
    "data_path='./preprocess/'\n",
    "vertordb_dir='vector_storage'\n",
    "\n",
    "if os.path.exists(vertordb_dir):\n",
    "    storage_context=StorageContext.from_defaults(persist_dir=vertordb_dir)\n",
    "    index=load_index_from_storage(storage_context=storage_context)\n",
    "else:\n",
    "    # documents = SimpleDirectoryReader(data_path,required_exts=[\".md\"]).load_data(show_progress=True)\n",
    "    # index=VectorStoreIndex.from_documents(documents=documents,show_progress=True)\n",
    "\n",
    "    index=VectorStoreIndex(nodes=nodes,show_progress=True)\n",
    "    index.storage_context.persist(persist_dir=vertordb_dir)\n",
    "\n",
    "query_engine= index.as_query_engine(\n",
    "    similarity_top_k=5,\n",
    "    llm=sllm,\n",
    "    # node_postprocessors=node_postprocessors,\n",
    "    # response_mode=\"compact\" # you can also select other modes like `compact`, `refine`\n",
    "    )"
   ]
  },
  {
   "cell_type": "code",
   "execution_count": 7,
   "metadata": {},
   "outputs": [],
   "source": [
    "import math\n",
    "from IPython.display import Markdown\n",
    "\n",
    "def generate_markdown_table(image_paths):\n",
    "    num_images = len(image_paths)\n",
    "    if num_images==0:\n",
    "        return ''\n",
    "    \n",
    "    num_cols = max(1,math.ceil(math.sqrt(num_images)))\n",
    "    num_rows = math.ceil(num_images / num_cols)\n",
    "\n",
    "    table = \"| \" + \" | \".join([\"-\"] * num_cols) + \" |\\n\"\n",
    "    table += \"| \" + \" | \".join([\"---\"] * num_cols) + \" |\\n\"\n",
    "\n",
    "    for row in range(num_rows):\n",
    "        row_images = image_paths[row * num_cols:(row + 1) * num_cols]\n",
    "        table += \"| \" + \" | \".join([f\"![Image](./preprocess/{img})\" for img in row_images])\n",
    "        table += \" |\" + \" |\" * (num_cols - len(row_images)) + \"\\n\"\n",
    "\n",
    "    return table\n",
    "\n",
    "def show_response(response):\n",
    "    md_content=''\n",
    "    md_content+=generate_markdown_table(response.response.page_images)\n",
    "\n",
    "    # 添加文本\n",
    "    md_content+='\\n---\\n'\n",
    "    md_content+=response.response.response\n",
    "\n",
    "    display(Markdown(md_content))"
   ]
  },
  {
   "cell_type": "code",
   "execution_count": 8,
   "metadata": {},
   "outputs": [
    {
     "data": {
      "text/markdown": [
       "| - | - |\n",
       "| --- | --- |\n",
       "| ![Image](./preprocess/images\\img261-301.png) | ![Image](./preprocess/images\\img262-302.png) |\n",
       "\n",
       "---\n",
       "您可以通过长按中控台按钮约5秒进入锁屏模式，在这种状态下，点击中央显示屏的任意位置或再次长按中控台按钮可以重新解锁屏幕。"
      ],
      "text/plain": [
       "<IPython.core.display.Markdown object>"
      ]
     },
     "metadata": {},
     "output_type": "display_data"
    },
    {
     "data": {
      "text/plain": [
       "[NodeWithScore(node=TextNode(id_='f6c007f0-c495-4ae4-a6c4-d0282b8e0db9', embedding=None, metadata={'file_path': './preprocess\\\\doc99-安全出行-73.md', 'page_number': 264, '调节中央显示屏显示模式': ['images\\\\img263-305.png'], '调节中央显示屏亮度': ['images\\\\img264-306.png']}, excluded_embed_metadata_keys=[], excluded_llm_metadata_keys=[], relationships={}, metadata_template='{key}: {value}', metadata_separator='\\n', text='# 设置中央显示屏显示状态\\n\\n## 调节中央显示屏显示模式\\n\\n在中央显示屏中点击\\n\\n-设置-显示，进入显示设置界面。\\n\\n\\n01 点击设置中央显示屏显示模式（日间模式、夜间模式、自\\n\\n动）。\\n\\n说明！\\n\\n您可以依据个人喜好选择自动模式：\\n\\n□日出到日落：白天显示日间模式，晚上显示夜间模式。\\n\\n□自定时段：依据设置的时间段切换显示模式。\\n\\n□日夜模式选择自动模式后，中央显示屏会自动切换日间模式\\n\\n或夜间模式。\\n\\n## 调节中央显示屏亮度\\n\\n在中央显示屏中点击\\n\\n-设置-显示，进入显示设置界面。\\n\\n\\n01 点击设置中央显示屏亮暗模式。\\n\\n02滑动滑条调节中央显示屏亮度。\\n\\n您还可以通过以下方式调节中央显示屏亮度：\\n\\n■中央显示屏车辆功能界面，请参见车辆功能界面（页码266）。\\n\\n■仪表板上的调光器，请参见调节背光亮度（页码91）。\\n', mimetype='text/plain', start_char_idx=None, end_char_idx=None, metadata_seperator='\\n', text_template='{metadata_str}\\n\\n{content}'), score=0.5298833886721772),\n",
       " NodeWithScore(node=TextNode(id_='9112031b-a556-4004-9fb4-7bf9acad99a5', embedding=None, metadata={'file_path': './preprocess\\\\doc99-安全出行-73.md', 'page_number': 263, '调节中央显示屏显示模式': ['images\\\\img262-303.png'], '调节中央显示屏亮度': ['images\\\\img263-304.png']}, excluded_embed_metadata_keys=[], excluded_llm_metadata_keys=[], relationships={}, metadata_template='{key}: {value}', metadata_separator='\\n', text='# 设置中央显示屏显示状态\\n\\n## 调节中央显示屏显示模式\\n\\n在中央显示屏中点击\\n\\n-设置-显示，进入显示设置界面。\\n\\n\\n01 点击设置中央显示屏显示模式（日间模式、夜间模式、自\\n\\n动）。\\n\\n说明！\\n\\n您可以依据个人喜好选择自动模式：\\n\\n□日出到日落：白天显示日间模式，晚上显示夜间模式。\\n\\n□自定时段：依据设置的时间段切换显示模式。\\n\\n□日夜模式选择自动模式后，中央显示屏会自动切换日间模式\\n\\n或夜间模式。\\n\\n## 调节中央显示屏亮度\\n\\n在中央显示屏中点击\\n\\n-设置-显示，进入显示设置界面。\\n\\n\\n01 点击设置中央显示屏亮暗模式。\\n\\n02滑动滑条调节中央显示屏亮度。\\n\\n您还可以通过以下方式调节中央显示屏亮度：\\n\\n■中央显示屏车辆功能界面，请参见车辆功能界面（页码266）。\\n\\n■仪表板上的调光器，请参见调节背光亮度（页码90）。\\n', mimetype='text/plain', start_char_idx=None, end_char_idx=None, metadata_seperator='\\n', text_template='{metadata_str}\\n\\n{content}'), score=0.5285241550556411),\n",
       " NodeWithScore(node=TextNode(id_='5dd1b010-0b24-4127-8d8d-ac983ada8359', embedding=None, metadata={'file_path': './preprocess\\\\doc99-安全出行-73.md', 'page_number': 262, '主界面': ['images\\\\img261-301.png', 'images\\\\img262-302.png']}, excluded_embed_metadata_keys=[], excluded_llm_metadata_keys=[], relationships={}, metadata_template='{key}: {value}', metadata_separator='\\n', text='# 中央显示屏\\n\\n说明！\\n\\n□本章节描述该车型系列中所有的功能配置，所列举的部分功能由\\n\\n于车型、车辆配置或市场区域等差异可能不适用于您的车辆。具\\n\\n体相关信息请以实际车辆为准。\\n\\n车辆的很多功能均可通过中央显示屏控制和调节。中央显示屏为触摸\\n\\n屏，可进行触摸操作。\\n\\n\\n副仪表台按钮可以对中央显示屏进行以下操作：\\n\\n旋转按钮：增加/减小音量。\\n\\n按压按钮：\\n\\n■短按暂停或播放音乐/视频。\\n\\n■长按约5 秒锁屏/待机模式，在锁屏模式下，点击中央显示屏上\\n\\n的任意位置或长按中控台按钮可以重新解锁屏幕。\\n\\n## 主界面\\n\\n\\n中央显示屏主界面按键\\n\\n01 HOME按键：进入主界面。\\n\\n\\n中央显示屏主界面\\n\\n01 快捷卡片：可切换情景模式、播放音乐等。\\n\\n02功能显示区域：激活的车辆功能在此区域显示。\\n\\n03应用程序：点击进入应用程序。\\n\\n04360°全景影像：点击进入360°全景影像界面。\\n\\n05车辆功能：点击进入车辆功能设置。\\n\\n06多媒体：点击进入多媒体界面。\\n\\n07主页：点击打开快捷卡片。\\n\\n说明！\\n\\n□根据车型配置原因，功能入口区域显示的功能不同。\\n', mimetype='text/plain', start_char_idx=None, end_char_idx=None, metadata_seperator='\\n', text_template='{metadata_str}\\n\\n{content}'), score=0.49662517815237966),\n",
       " NodeWithScore(node=TextNode(id_='0e8854dc-4b23-4847-ba87-6a47c39e45a6', embedding=None, metadata={'file_path': './preprocess\\\\doc99-安全出行-73.md', 'page_number': 268, '蓝牙连接': ['images\\\\img267-312.png'], '连接': ['images\\\\img268-313.png'], '车载热点': ['images\\\\img268-314.png']}, excluded_embed_metadata_keys=[], excluded_llm_metadata_keys=[], relationships={}, metadata_template='{key}: {value}', metadata_separator='\\n', text='# 连接设置\\n\\n在中央显示屏中点击\\n\\n-设置-连接，进入连接设置界面。\\n\\n\\n在连接界面可以进行以下设置：\\n\\n■蓝牙：设置蓝牙名称、查看已连接的蓝牙、系统搜索到的蓝牙、\\n\\n重新选择希望连接的蓝牙。\\n\\n■Wi-Fi：查看已连接的网络、系统搜索到的网络，可重新选择希\\n\\n望连接的网络。\\n\\n■车载热点：设置热点名称、热点配置。\\n\\n## 蓝牙连接\\n\\n在中央显示屏上点击\\n\\n-设置-连接-蓝牙，进入蓝牙设置界面。\\n\\n\\n01 点击开启/关闭蓝牙功能。\\n\\n在蓝牙功能设置界面，可设置蓝牙名称、查看已连接的蓝牙、系统搜\\n\\n索到的蓝牙、重新选择希望连接的蓝牙等。\\n\\n说明！\\n\\n□您还可以通过点击中央显示屏状态栏上的\\n\\n图标进入蓝牙功能设\\n\\n置界面。\\n\\n## 连接\\n\\n在中央显示屏上点击\\n\\n-设置-连接-Wi-Fi，进入Wi-Fi设置界面。\\n\\n\\n01 点击开启/关闭Wi-Fi功能。\\n\\n在Wi-Fi功能设置界面，可查看已连接的网络、系统搜索到的网络，\\n\\n可重新选择希望连接的网络。\\n\\n说明！\\n\\n□您还可以通过点击中央显示屏状态栏上的\\n\\n图标进入Wi-Fi功能\\n\\n设置界面。\\n\\n## 车载热点\\n\\n接入网络后，可以创建车载热点，为其他智能设备提供网络。\\n\\n在中央显示屏上点击\\n\\n-设置-连接-车载热点，进入车载热点设置界\\n\\n面。\\n\\n\\n01 点击开启/关闭车载热点功能。\\n\\n在车载热点功能设置界面，可设置热点名称、热点配置等。\\n\\n说明！\\n\\n□您还可以通过点击中央显示屏状态栏上的\\n\\n图标进入车载热点功\\n\\n能设置界面。\\n', mimetype='text/plain', start_char_idx=None, end_char_idx=None, metadata_seperator='\\n', text_template='{metadata_str}\\n\\n{content}'), score=0.4815075417513457),\n",
       " NodeWithScore(node=TextNode(id_='f746e567-001a-4693-bf08-d0f73d285ad8', embedding=None, metadata={'file_path': './preprocess\\\\doc99-安全出行-73.md', 'page_number': 226, '中央显示屏提示信息': ['images\\\\img226-255.png']}, excluded_embed_metadata_keys=[], excluded_llm_metadata_keys=[], relationships={}, metadata_template='{key}: {value}', metadata_separator='\\n', text='# 泊车辅助系统\\n\\n车辆低速行驶时，泊车辅助系统通过雷达传感器检测车辆后方是否有\\n\\n障碍物，并通过声音提示驾驶员车辆与障碍物之间的距离。\\n\\n\\n车辆启动后，您将换挡杆切换至倒挡（R）进行倒车时，后泊车辅助\\n\\n系统自动启用，声音警告信号在车辆离后方物体1.5 m时启用。\\n\\n警告！\\n\\n■作为驾驶员，您应遵守相关法律要求，并对安全停车承担全部责\\n\\n任。\\n\\n■泊车辅助系统是一种辅助功能，在使用过程中您仍需注意观察周\\n\\n围环境。\\n\\n## 中央显示屏提示信息\\n\\n\\n01 扇形区域。\\n\\n02距离指示条。\\n\\n03点击\\n\\n图标，开启/关闭报警音提示。\\n\\n突出显示的扇形区域或距离指示条表明在该区域已检测到物体。车辆\\n\\n越来越靠近物体时，突出显示的扇形区域或距离指示条将从灰色、黄\\n\\n色变为红色。根据是在哪一侧检测到的物体，这一侧扇形区域或距离\\n\\n指示条会单独改变颜色。您将听到报警声音，且车辆离物体越近，报\\n\\n警声音频率越高。\\n\\n说明！\\n\\n□在泊车辅助界面上，双指向左滑动屏幕，可隐藏泊车辅助界面。\\n\\n## 泊车辅助系统的局限性\\n\\n关于泊车辅助系统局限性，请参见泊车辅助传感器章节。\\n', mimetype='text/plain', start_char_idx=None, end_char_idx=None, metadata_seperator='\\n', text_template='{metadata_str}\\n\\n{content}'), score=0.479256155045676)]"
      ]
     },
     "execution_count": 8,
     "metadata": {},
     "output_type": "execute_result"
    }
   ],
   "source": [
    "query_str='如何从锁定状态唤醒中央显示器?'\n",
    "response = query_engine.query(query_str)\n",
    "show_response(response)\n",
    "response.source_nodes"
   ]
  },
  {
   "cell_type": "code",
   "execution_count": 9,
   "metadata": {},
   "outputs": [
    {
     "data": {
      "text/markdown": [
       "\n",
       "---\n",
       "后雨刮和洗涤器的操作方式如下：\n",
       "\n",
       "1. 将拨杆沿远离方向盘的方向推动，启动后挡风玻璃雨刮和洗涤器。\n",
       "2. 按压拨杆末端上方区域，启动后挡风玻璃间歇性刮刷模式。\n",
       "3. 按压拨杆末端下方区域，启动后挡风玻璃连续刮刷模式。\n",
       "\n",
       "注意事项包括：\n",
       "- 冬季使用雨刮前，请先清除挡风玻璃上的冰和积雪并确认雨刮片没有冻结在挡风玻璃上。\n",
       "- 当挡风玻璃上有尘沙、鸟粪、昆虫、树浆等异物时，请先清洁挡风玻璃，否则会损坏雨刮片/影响雨刮片清洁效果。\n",
       "- 避免在挡风玻璃干燥的情况下开启雨刮，否则可能导致雨刮片和挡风玻璃损坏。\n",
       "- 定期清洁和检查雨刮片，否则雨刮片使用寿命可能会缩短。\n",
       "- 应使用合格的洗涤液，不合格的洗涤液可能导致洗涤器损坏。\n",
       "- 如果发现雨刮片橡胶硬化或有裂纹、雨刮片在挡风玻璃上留下划痕或不能刮洗某个区域，则需要更换雨刮片。"
      ],
      "text/plain": [
       "<IPython.core.display.Markdown object>"
      ]
     },
     "metadata": {},
     "output_type": "display_data"
    },
    {
     "data": {
      "text/plain": [
       "[NodeWithScore(node=TextNode(id_='9995f4a9-0aa2-477c-b077-712228aedd03', embedding=None, metadata={'file_path': './preprocess\\\\doc99-安全出行-73.md', 'page_number': 66, '倒车时后挡风玻璃自动刮刷': ['images\\\\img66-63.png']}, excluded_embed_metadata_keys=[], excluded_llm_metadata_keys=[], relationships={}, metadata_template='{key}: {value}', metadata_separator='\\n', text='# 后雨刮和洗涤器\\n\\n\\n将拨杆沿远离方向盘的方向推动，启动后挡风玻璃雨刮和洗涤器。\\n\\n按压拨杆末端上方区域，启动后挡风玻璃间歇性刮刷模\\n\\n式。\\n\\n按压拨杆末端下方区域，启动后挡风玻璃连续刮刷模式。\\n\\n注意！\\n\\n■冬季使用雨刮前，请先清除挡风玻璃上的冰和积雪并确认雨刮片\\n\\n没有冻结在挡风玻璃上。\\n\\n■当挡风玻璃上有尘沙、鸟粪、昆虫、树浆等异物时，请先清洁挡\\n\\n风玻璃，否则会损坏雨刮片/影响雨刮片清洁效果。\\n\\n■避免在挡风玻璃干燥的情况下开启雨刮，否则可能导致雨刮片和\\n\\n挡风玻璃损坏。\\n\\n■定期清洁和检查雨刮片，否则雨刮片使用寿命可能会缩短。\\n\\n■应使用合格的洗涤液，不合格的洗涤液可能导致洗涤器损坏。\\n\\n■如果发现雨刮片橡胶硬化或有裂纹、雨刮片在挡风玻璃上留下划\\n\\n痕或不能刮洗某个区域，则需要更换雨刮片。\\n\\n## 倒车时后挡风玻璃自动刮刷\\n\\n前雨刮启用且换挡杆拨至倒挡（R）后，后雨刮会自动开启。\\n\\n在中央显示屏中点击\\n\\n-车辆设置-雨刮，进入雨刮设置界面。\\n\\n\\n01 点击开启/关闭后雨刮倒车联动功能。\\n', mimetype='text/plain', start_char_idx=None, end_char_idx=None, metadata_seperator='\\n', text_template='{metadata_str}\\n\\n{content}'), score=0.5844916800890195),\n",
       " NodeWithScore(node=TextNode(id_='7358994f-aa9d-4d55-8a49-d113e88818c1', embedding=None, metadata={'file_path': './preprocess\\\\doc99-安全出行-73.md', 'page_number': 64, '雨量感应式自动雨刷': ['images\\\\img64-60.png'], '前挡风玻璃洗涤器': ['images\\\\img64-61.png']}, excluded_embed_metadata_keys=[], excluded_llm_metadata_keys=[], relationships={}, metadata_template='{key}: {value}', metadata_separator='\\n', text='# 前雨刮和洗涤器\\n\\n\\n从0位置向下移动拨杆，雨刮自动刮刷一次。\\n\\n拨杆移动至该位置，关闭雨刮。\\n\\n拨杆移至该位置时，启用自动雨刷功能。\\n\\n拨杆移至该位置时，雨刮将按照正常速度工作。\\n\\n拨杆移至该位置时，雨刮工作速度会加快。\\n\\n注意！\\n\\n■冬季使用雨刮前，请先清除挡风玻璃上的冰和积雪并确认雨刮片\\n\\n没有冻结在挡风玻璃上。\\n\\n■当挡风玻璃上有尘沙、鸟粪、昆虫、树浆等异物时，请先清洁挡\\n\\n风玻璃，否则会损坏雨刮片/影响雨刮片清洁效果。\\n\\n■避免在挡风玻璃干燥的情况下开启雨刮，否则可能导致雨刮片和\\n\\n挡风玻璃损坏。\\n\\n■定期清洁和检查雨刮片，否则雨刮片使用寿命可能会缩短。\\n\\n■应使用合格的洗涤液，不合格的洗涤液可能导致洗涤器损坏。\\n\\n■如果发现雨刮片橡胶硬化或有裂纹、雨刮片在挡风玻璃上留下划\\n\\n痕或不能刮洗某个区域，则需要更换雨刮片。\\n\\n## 雨量感应式自动雨刷\\n\\n\\n旋转雨刮拨杆上的滚轮，调节雨刮刮刷速度\\n\\n雨量光线传感器安装在挡风玻璃上部，内后视镜三角区域。当拨杆位\\n\\n于自动挡位（AUTO）时，雨量光线传感器会根据降雨强度自动开启/\\n\\n关闭雨刮及调节雨刮刮刷速度。向上旋转滚轮，增加自动雨刷灵敏\\n\\n度；向下旋转滚轮，降低自动雨刷灵敏度。\\n\\n注意！\\n\\n■雨刮片处于维修位置或使用自动洗车机清洗车辆前，先停用自动\\n\\n刮刷，否则雨刮可能会意外开启，造成不必要的损坏。\\n\\n## 前挡风玻璃洗涤器\\n\\n\\n向自身方向拉动拨杆，启动洗涤器，雨刮将刮刷数次。\\n\\n注意！\\n\\n■如果洗涤液在挡风玻璃上冻结，请勿使用洗涤器，否则可能导致\\n\\n视线受阻。\\n', mimetype='text/plain', start_char_idx=None, end_char_idx=None, metadata_seperator='\\n', text_template='{metadata_str}\\n\\n{content}'), score=0.5501015281963498),\n",
       " NodeWithScore(node=TextNode(id_='ec9996bb-2dd4-4840-b6a0-23927c5b9988', embedding=None, metadata={'file_path': './preprocess\\\\doc99-安全出行-73.md', 'page_number': 314, '前挡风玻璃雨刮片更换': ['images\\\\img313-368.png', 'images\\\\img313-369.png'], '后挡风玻璃雨刮片更换': ['images\\\\img314-370.png']}, excluded_embed_metadata_keys=[], excluded_llm_metadata_keys=[], relationships={}, metadata_template='{key}: {value}', metadata_separator='\\n', text='# 更换雨刮片\\n\\n更换雨刮片前，请将挡位切换至驻车挡（P）并启用电子驻车制动\\n\\n（EPB）。确认雨刮器处于关闭状态，并启用雨刮片维修位置。\\n\\n在中央显示屏中点击\\n\\n-车辆设置-雨刮，进入雨刮设置界面。\\n\\n\\n01 点击开启前雨刮维修位置。\\n\\n## 前挡风玻璃雨刮片更换\\n\\n1 将雨刮片设置在维修位置。\\n\\n2\\n\\n按压雨刮片卡扣。\\n\\n抽出雨刮片。\\n\\n\\n3 沿箭头方向安装新的雨刮片。\\n\\n\\n注意！\\n\\n■选择维修位置前，请确保雨刮片未冻结在挡风玻璃上。\\n\\n■如果雨刮臂从维修位置被折起，离开了挡风玻璃，必须将其放回\\n\\n挡风玻璃上，才能让雨刮器回到原位，否则可能损坏机舱盖油漆\\n\\n和雨刮片。\\n\\n■拆除雨刮片前，使用软质毛巾贴放在雨刮片与挡风玻璃之间，防\\n\\n止拆除雨刮片时误刮伤挡风玻璃。\\n\\n■请确保安装的雨刮片适用于您的车型，否则使用时可能造成车辆\\n\\n损伤。\\n\\n说明！\\n\\n□雨刮器/洗涤器或自动刮刷功能被激活时，雨刮片回到原位置。\\n\\n□安装雨刮片时请确保雨刮臂与雨刮片连接到位。\\n\\n## 后挡风玻璃雨刮片更换\\n\\n1 将雨刮臂抬起。\\n\\n2 沿箭头方向拆除雨刮片。\\n\\n\\n3 按照与拆除相反的顺序安装新的雨刮片。\\n\\n注意！\\n\\n■拆除雨刮片前，使用软质毛巾贴放在雨刮片与挡风玻璃之间，防\\n\\n止拆除雨刮片时误刮伤挡风玻璃。\\n\\n■请确保安装的雨刮片适用于您的车型，否则使用时可能造成车辆\\n\\n损伤。\\n', mimetype='text/plain', start_char_idx=None, end_char_idx=None, metadata_seperator='\\n', text_template='{metadata_str}\\n\\n{content}'), score=0.49769513734735016),\n",
       " NodeWithScore(node=TextNode(id_='5fd787bb-8f40-4e86-aba9-f798f76ab867', embedding=None, metadata={'file_path': './preprocess\\\\doc99-安全出行-73.md', 'page_number': 26, '使用后排中央扶手和杯托': ['images\\\\img26-9.png']}, excluded_embed_metadata_keys=[], excluded_llm_metadata_keys=[], relationships={}, metadata_template='{key}: {value}', metadata_separator='\\n', text='# 第二排储物空间\\n\\n\\n■前排座椅靠背储物袋。\\n\\n■车门储物空间。\\n\\n■后扶手的杯托。\\n\\n■衣帽钩。\\n\\n## 使用后排中央扶手和杯托\\n\\n\\n将扶手向前拉动并向下打开以使用。\\n\\n警告！\\n\\n■将松散物品装在密闭的储物空间内，确保物品被固定到位。\\n\\n■衣帽钩只能用于悬挂轻量的衣物，不能用于悬挂雨伞等坚硬物\\n\\n品。\\n\\n注意！\\n\\n■切勿强行将尺寸不合适的容器卡入杯托。\\n', mimetype='text/plain', start_char_idx=None, end_char_idx=None, metadata_seperator='\\n', text_template='{metadata_str}\\n\\n{content}'), score=0.4568757160097746),\n",
       " NodeWithScore(node=TextNode(id_='04cea0d3-abbd-4211-8f84-757e04b2a9dc', embedding=None, metadata={'file_path': './preprocess\\\\doc99-安全出行-73.md', 'page_number': 317}, excluded_embed_metadata_keys=[], excluded_llm_metadata_keys=[], relationships={}, metadata_template='{key}: {value}', metadata_separator='\\n', text='# 清洁车辆\\n\\n定期清洁车辆有利于车辆保值。清洗车辆时，请注意以下要点：\\n\\n■由于附着在漆面上的污垢、灰尘、昆虫和柏油斑可能损坏漆面，\\n\\n车辆必须定期清洗。\\n\\n■请尽快清除漆面上的污染物，如鸟粪、树汁、金属颗粒或小虫。\\n\\n■请用湿海绵和大量的水洗掉污垢。请用专用车辆清洁剂彻底清洁\\n\\n车辆。\\n\\n■洗掉车辆下方的污垢。\\n\\n■请勿清洗表面发烫或被阳光直射、暴晒下的车辆，需等待车身外\\n\\n表冷却后再进行清洗。\\n\\n警告！\\n\\n■请勿用水冲洗发动机舱内部。\\n\\n注意！\\n\\n■在清洗车辆外部前，请记得关闭所有车窗和天窗。\\n\\n■请勿使用含酸清洁剂清洗车辆。酸液可能损坏车辆表面，影响车\\n\\n辆外观。\\n\\n■请勿用强碱性肥皂、强化学性清洗剂、汽油或溶剂清洗车辆，否\\n\\n则可能影响车辆外观。\\n\\n■在冬季道路撒盐的地区，应定期清洁车底，以防止盐累积，导致\\n\\n车底和悬架加速腐蚀。\\n\\n■在清洗完车辆后，请将车辆表面擦拭干净，否则残留的清洁剂会\\n\\n腐蚀车辆外观。\\n\\n## 自动清洗\\n\\n自动洗车设备方便快捷，但难以彻底洗净车辆。为了达到最佳清洗效\\n\\n果，建议您手洗车辆。\\n\\n注意！\\n\\n■由于第一个月油漆尚未充分硬化，在此期间请勿在自动洗车设备\\n\\n内清洗您的车辆。\\n\\n■确保将外后视镜折叠。\\n\\n■确保遥控钥匙和蓝牙钥匙不在有效控制范围内。\\n\\n■请根据自动洗车设备上的指示信息操作车辆。\\n\\n## 高压冲洗\\n\\n使用高压水枪清洗车辆时，请务必遵照设备操作说明。特别是工作压\\n\\n力和喷水距离。请勿使喷头过于靠近软材料，如橡胶软管或密封件。\\n\\n警告！\\n\\n■在清洗车辆后若要立即驾车，请数次踩下制动踏板，以去除制动\\n\\n摩擦片上的水汽。水汽可能影响制动效率。\\n\\n■洗车前，检查并确认车辆的外部开闭件已正确关闭。\\n\\n■在清洗车辆时，禁止将水枪对准车辆底部接插件进行冲洗。\\n\\n■避免用高压清洗机或蒸汽清洗机对传感器进行清洁，以免损坏传\\n\\n感器。清洗车辆时应使用较小的水流短时间冲洗传感器表面，且\\n\\n至少保持10 cm以上的距离。\\n\\n■务必严格按高压清洗器使用说明清洁车辆，特别注意工作压力和\\n\\n喷洗距离。如果使用压力清洗器，则喷嘴与车身的表面至少须保\\n\\n持30 cm的距离。保持喷嘴移动，不要朝某个部位一直喷水，高\\n\\n压水流浸入车辆零部件内可能导致损坏。\\n\\n■请勿使喷嘴直接或间接对发动机舱内进行冲洗。高压水流会造成\\n\\n发动机舱内的电气元件受损或造成一些部件不能正常使用。\\n\\n## 雨刮片\\n\\n首先将雨刮片置于维修位置，然后用Lynk & Co领克推荐的干净抹布和\\n\\n清洁剂清洁雨刮片。\\n\\n## 轮辋\\n\\n请使用软刷清洁轮辋并用水枪冲洗。建议使用Lynk & Co领克推荐的轮\\n\\n辋清洁剂。\\n\\n## 外部塑料饰件\\n\\n■请勿使用干布、粗布或者硬布清洁外部塑料饰件，并避免刮擦，\\n\\n否则会划伤或者损坏表面。\\n\\n■请用湿无棉绒布及中性（专用）车辆清洁剂清洁外部塑料饰件。\\n', mimetype='text/plain', start_char_idx=None, end_char_idx=None, metadata_seperator='\\n', text_template='{metadata_str}\\n\\n{content}'), score=0.4411604421402891)]"
      ]
     },
     "execution_count": 9,
     "metadata": {},
     "output_type": "execute_result"
    }
   ],
   "source": [
    "query_str='后雨刮和洗涤器?'\n",
    "response = query_engine.query(query_str)\n",
    "show_response(response)\n",
    "response.source_nodes"
   ]
  },
  {
   "cell_type": "code",
   "execution_count": 10,
   "metadata": {},
   "outputs": [
    {
     "data": {
      "text/markdown": [
       "\n",
       "---\n",
       "使用安全带专用清洁剂和海绵来清洁安全带。请将安全带置于阴凉处彻底干燥后再使用。切勿使用漂白剂、染料或化学溶剂清洁安全带，这些材料可能严重影响安全带的织物性能。"
      ],
      "text/plain": [
       "<IPython.core.display.Markdown object>"
      ]
     },
     "metadata": {},
     "output_type": "display_data"
    },
    {
     "data": {
      "text/plain": [
       "[NodeWithScore(node=TextNode(id_='b78c4b5e-7b24-4891-b137-dfeea5ba1df6', embedding=None, metadata={'file_path': './preprocess\\\\doc99-安全出行-73.md', 'page_number': 102, '系紧安全带': ['images\\\\img101-97.png', 'images\\\\img101-98.png'], '松开安全带': ['images\\\\img102-99.png'], '孕期安全': ['images\\\\img102-100.png']}, excluded_embed_metadata_keys=[], excluded_llm_metadata_keys=[], relationships={}, metadata_template='{key}: {value}', metadata_separator='\\n', text='# 使用安全带\\n\\n## 系紧安全带\\n\\n1 调节座椅到合适位置。\\n\\n2 缓慢拉出安全带，将锁舌插入锁扣中，直到听见“咔哒”声。\\n\\n3\\n\\n使腰部安全带应尽可能低的横跨于胯部。\\n\\n确保肩部安全带斜跨整个肩部，穿过胸部。\\n\\n\\n4 将前排座椅安全带高度调整至合适的位置。\\n\\n\\n捏住调节机构，上下调节安全带高度至合适位置。\\n\\n警告！\\n\\n■请勿将座椅靠背太过向后倾斜。\\n\\n■请在系紧安全带前检查锁扣插口是否存在异物（如：食物残渣\\n\\n等），若存在异物请及时取出。\\n\\n■为确保安全带正常工作，请务必将安全带插入与之匹配的锁扣\\n\\n中。\\n\\n■乘坐时，安全带必须拉紧，防止松垮，并确保其牢固贴身，无扭\\n\\n曲。\\n\\n■切勿将安全带从您的后背绕过、从您的胳膊下面绕过或绕过您的\\n\\n颈部。安全带应远离您的面部和颈部，但不得从肩部滑落。\\n\\n■如果安全带无法正常使用，请联系Lynk & Co领克中心进行处理。\\n\\n## 松开安全带\\n\\n\\n安全带锁扣解锁按钮\\n\\n按下安全带锁扣上的解锁按钮，可以让安全带自行缩回。\\n\\n如果安全带未完全缩回，手动使其缩回，不松散悬垂。\\n\\n警告\\n\\n■松开安全带时，应在按下解锁按钮之前握住安全带，以防止安全\\n\\n带缩回速度过快。\\n\\n## 孕期安全\\n\\n孕妇在乘坐车辆时，务必正确系紧安全带，这点至关重要。\\n\\n\\n孕妇驾驶车辆前，请先咨询医生是否能够驾驶车辆。为降低您和胎儿\\n\\n受伤的风险，在保证可以正常操控车辆的前提下，应调节座椅位置，\\n\\n使腹部远离方向盘。\\n\\n孕妇在使用安全带时，肩部安全带应从肩部上面绕过，然后绕过胸部\\n\\n中间，至腹部的侧面。腰部安全带应平贴在大腿处，置于腹部下方尽\\n\\n可能靠下的位置。\\n\\n警告！\\n\\n■请将腰部安全带紧贴在隆起的腹部以下。\\n', mimetype='text/plain', start_char_idx=None, end_char_idx=None, metadata_seperator='\\n', text_template='{metadata_str}\\n\\n{content}'), score=0.528308847560157),\n",
       " NodeWithScore(node=TextNode(id_='aa6cb4eb-fcd4-4f7f-aec7-faaf493e1109', embedding=None, metadata={'file_path': './preprocess\\\\doc99-安全出行-73.md', 'page_number': 100}, excluded_embed_metadata_keys=[], excluded_llm_metadata_keys=[], relationships={}, metadata_template='{key}: {value}', metadata_separator='\\n', text='# 安全带\\n\\n## 安全带作用\\n\\n发生碰撞事故时，正确佩戴安全带可以降低人员伤害，保护乘员头部\\n\\n和胸部免受损伤。\\n\\n警告！\\n\\n■每次出行前，每位乘员必须按照正确方式系紧安全带，请参见使\\n\\n用安全带（页码101）。\\n\\n■每条安全带仅允许一个人使用，请勿多人（包括儿童）共用一条\\n\\n座椅安全带。\\n\\n■请勿更改、拆卸安全带或安装可能会改变安全带方向或张紧度的\\n\\n设备。\\n\\n■车辆发生任何碰撞之后，应让Lynk & Co领克中心检查安全带装\\n\\n置。\\n\\n## 安全带未系提醒\\n\\n安全带未系提醒装置用于提醒驾乘人员，在行车前应系紧各自的安全\\n\\n带。当车辆启动且驾乘人员未系紧安全带时，仪表显示屏会点亮安全\\n\\n带未系警告灯图标\\n\\n。\\n\\n车辆在行驶过程中，驾驶员和/或乘员未系安全带，当车辆达到特定\\n\\n速度或里程数时，安全带未系提醒装置也会发出声音提醒信号。一段\\n\\n时间后，提示音自动消失，安全带未系警告灯图标\\n\\n持续点亮，直\\n\\n到驾乘人员系紧安全带。\\n\\n车辆在行驶过程中且达到特定速度或里程数时，当驾驶员和/或乘员\\n\\n松开已系上的安全带，安全带未系警告灯图标\\n\\n点亮并发出声音提\\n\\n醒。一段时间后，提示音自动消失，安全带未系警告灯图标\\n\\n持续点\\n\\n亮，直到驾乘人员全部系上安全带。\\n\\n警告！\\n\\n■当驾乘人员都已经系上安全带，安全带未系警告灯图标\\n\\n依然持\\n\\n续点亮时，请立即将车辆停在安全地点并联系Lynk & Co领克中\\n\\n心。\\n\\n说明！\\n\\n□请勿在副驾驶座椅上放置重物，系统可能会误认为车内乘员未系\\n\\n安全带。\\n\\n□后排座椅无安全带未系提醒，请及时提醒乘员正确佩戴安全带。\\n\\n## 安全带检查\\n\\n安全带属于重要安全部件，请每次行车前按照以下步骤对安全带进行\\n\\n检查。若存在异常情况，请立即联系Lynk & Co领克中心。\\n\\n■检查安全带是否存在扭曲、脏污的情况。\\n\\n■检查安全带是否存在严重磨损、割伤、烧伤的情况。\\n\\n■将安全带锁舌插入锁扣，直到听到“咔哒”声，反方向拉锁舌，\\n\\n检查安全带锁扣固定情况。\\n\\n■快速拉动安全带，检查安全带自动缩回/拉紧情况。\\n\\n## 安全带清洁\\n\\n请使用安全带专用清洁剂和海绵来清洁安全带。请将安全带置于阴凉\\n\\n处彻底干燥后再使用。\\n\\n警告！\\n\\n■切勿使用漂白剂、染料或化学溶剂清洁安全带。这些材料可能严\\n\\n重削弱安全带的织物性能。\\n\\n## 带预紧功能的卷收器\\n\\n车辆发生某些类型的碰撞事故（取决于碰撞的角度和剧烈程度）时，\\n\\n卷收器绷紧安全带，帮助约束车内乘员。\\n\\n警告！\\n\\n■发生碰撞事故后，卷收器会变热，可能会灼伤您的皮肤。\\n\\n■长时间接触卷收器起爆时产生的烟雾和粉尘可能会引起皮肤或眼\\n\\n睛不适。如果眼睛和皮肤擦伤处受到粉尘（烟雾）感染，请立即\\n\\n冲洗眼睛和皮肤擦伤处；若清洗后依旧感觉不适，请立即就医。\\n\\n说明！\\n\\n□预紧的卷收器总成起爆后，会释放少量粉尘（烟雾），同时可能\\n\\n发出较大声响。这是正常现象，不会引发火灾。\\n', mimetype='text/plain', start_char_idx=None, end_char_idx=None, metadata_seperator='\\n', text_template='{metadata_str}\\n\\n{content}'), score=0.5111155527999084),\n",
       " NodeWithScore(node=TextNode(id_='04cea0d3-abbd-4211-8f84-757e04b2a9dc', embedding=None, metadata={'file_path': './preprocess\\\\doc99-安全出行-73.md', 'page_number': 317}, excluded_embed_metadata_keys=[], excluded_llm_metadata_keys=[], relationships={}, metadata_template='{key}: {value}', metadata_separator='\\n', text='# 清洁车辆\\n\\n定期清洁车辆有利于车辆保值。清洗车辆时，请注意以下要点：\\n\\n■由于附着在漆面上的污垢、灰尘、昆虫和柏油斑可能损坏漆面，\\n\\n车辆必须定期清洗。\\n\\n■请尽快清除漆面上的污染物，如鸟粪、树汁、金属颗粒或小虫。\\n\\n■请用湿海绵和大量的水洗掉污垢。请用专用车辆清洁剂彻底清洁\\n\\n车辆。\\n\\n■洗掉车辆下方的污垢。\\n\\n■请勿清洗表面发烫或被阳光直射、暴晒下的车辆，需等待车身外\\n\\n表冷却后再进行清洗。\\n\\n警告！\\n\\n■请勿用水冲洗发动机舱内部。\\n\\n注意！\\n\\n■在清洗车辆外部前，请记得关闭所有车窗和天窗。\\n\\n■请勿使用含酸清洁剂清洗车辆。酸液可能损坏车辆表面，影响车\\n\\n辆外观。\\n\\n■请勿用强碱性肥皂、强化学性清洗剂、汽油或溶剂清洗车辆，否\\n\\n则可能影响车辆外观。\\n\\n■在冬季道路撒盐的地区，应定期清洁车底，以防止盐累积，导致\\n\\n车底和悬架加速腐蚀。\\n\\n■在清洗完车辆后，请将车辆表面擦拭干净，否则残留的清洁剂会\\n\\n腐蚀车辆外观。\\n\\n## 自动清洗\\n\\n自动洗车设备方便快捷，但难以彻底洗净车辆。为了达到最佳清洗效\\n\\n果，建议您手洗车辆。\\n\\n注意！\\n\\n■由于第一个月油漆尚未充分硬化，在此期间请勿在自动洗车设备\\n\\n内清洗您的车辆。\\n\\n■确保将外后视镜折叠。\\n\\n■确保遥控钥匙和蓝牙钥匙不在有效控制范围内。\\n\\n■请根据自动洗车设备上的指示信息操作车辆。\\n\\n## 高压冲洗\\n\\n使用高压水枪清洗车辆时，请务必遵照设备操作说明。特别是工作压\\n\\n力和喷水距离。请勿使喷头过于靠近软材料，如橡胶软管或密封件。\\n\\n警告！\\n\\n■在清洗车辆后若要立即驾车，请数次踩下制动踏板，以去除制动\\n\\n摩擦片上的水汽。水汽可能影响制动效率。\\n\\n■洗车前，检查并确认车辆的外部开闭件已正确关闭。\\n\\n■在清洗车辆时，禁止将水枪对准车辆底部接插件进行冲洗。\\n\\n■避免用高压清洗机或蒸汽清洗机对传感器进行清洁，以免损坏传\\n\\n感器。清洗车辆时应使用较小的水流短时间冲洗传感器表面，且\\n\\n至少保持10 cm以上的距离。\\n\\n■务必严格按高压清洗器使用说明清洁车辆，特别注意工作压力和\\n\\n喷洗距离。如果使用压力清洗器，则喷嘴与车身的表面至少须保\\n\\n持30 cm的距离。保持喷嘴移动，不要朝某个部位一直喷水，高\\n\\n压水流浸入车辆零部件内可能导致损坏。\\n\\n■请勿使喷嘴直接或间接对发动机舱内进行冲洗。高压水流会造成\\n\\n发动机舱内的电气元件受损或造成一些部件不能正常使用。\\n\\n## 雨刮片\\n\\n首先将雨刮片置于维修位置，然后用Lynk & Co领克推荐的干净抹布和\\n\\n清洁剂清洁雨刮片。\\n\\n## 轮辋\\n\\n请使用软刷清洁轮辋并用水枪冲洗。建议使用Lynk & Co领克推荐的轮\\n\\n辋清洁剂。\\n\\n## 外部塑料饰件\\n\\n■请勿使用干布、粗布或者硬布清洁外部塑料饰件，并避免刮擦，\\n\\n否则会划伤或者损坏表面。\\n\\n■请用湿无棉绒布及中性（专用）车辆清洁剂清洁外部塑料饰件。\\n', mimetype='text/plain', start_char_idx=None, end_char_idx=None, metadata_seperator='\\n', text_template='{metadata_str}\\n\\n{content}'), score=0.47336637895233397),\n",
       " NodeWithScore(node=TextNode(id_='060fceed-f4be-4892-afcf-b446c2e08c22', embedding=None, metadata={'file_path': './preprocess\\\\doc99-安全出行-73.md', 'page_number': 312}, excluded_embed_metadata_keys=[], excluded_llm_metadata_keys=[], relationships={}, metadata_template='{key}: {value}', metadata_separator='\\n', text='# 添加洗涤液\\n\\n1 打开前机舱盖。\\n\\n2 打开洗涤液加注口盖。\\n\\n![](images\\\\img312-366.png)3 将洗涤液倒入洗涤液加注口。\\n\\n注意！\\n\\n■当温度低于冰点时，请使用含防冻剂的洗涤液，以避免洗涤泵、\\n\\n洗涤壶和洗涤管路结冰。\\n\\n■当洗涤壶没有洗涤液的情况下，请勿使用洗涤器。否则会损坏洗\\n\\n涤器。\\n', mimetype='text/plain', start_char_idx=None, end_char_idx=None, metadata_seperator='\\n', text_template='{metadata_str}\\n\\n{content}'), score=0.45232118514087133),\n",
       " NodeWithScore(node=TextNode(id_='c1653158-8049-4ba3-b8e4-cee3df10f5ba', embedding=None, metadata={'file_path': './preprocess\\\\doc99-安全出行-73.md', 'page_number': 253}, excluded_embed_metadata_keys=[], excluded_llm_metadata_keys=[], relationships={}, metadata_template='{key}: {value}', metadata_separator='\\n', text='# 主动式座舱清洁系统\\n\\n主动式座舱清洁系统的作用是在上车前，车辆主动打开空调外循环模\\n\\n式，将车外空气吹入车内，使车内空气保持新鲜，在高温天气时可以\\n\\n起到降低车内温度的作用。\\n\\n长时间停车（如锁车3 小时以上），在解锁车门时，主动式座舱清洁\\n\\n系统会自动启用，打开车门后，主动式座舱清洁系统停止工作。如果\\n\\n车门一直未打开，主动式座舱清洁系统将工作一段时间后自动停止。\\n\\n说明！\\n\\n□主动式座舱清洁系统功能启用后，您可能会听到空调鼓风机高速\\n\\n运转的声音，这属于正常现象。\\n\\n□该功能运行风量会随车辆使用时间的增加而逐渐减少，直至该功\\n\\n能停用。\\n', mimetype='text/plain', start_char_idx=None, end_char_idx=None, metadata_seperator='\\n', text_template='{metadata_str}\\n\\n{content}'), score=0.4458647473315997)]"
      ]
     },
     "execution_count": 10,
     "metadata": {},
     "output_type": "execute_result"
    }
   ],
   "source": [
    "query_str='安全带如何清洁?'\n",
    "response = query_engine.query(query_str)\n",
    "show_response(response)\n",
    "response.source_nodes"
   ]
  },
  {
   "cell_type": "code",
   "execution_count": 11,
   "metadata": {},
   "outputs": [
    {
     "data": {
      "text/markdown": [
       "| - | - | - |\n",
       "| --- | --- | --- |\n",
       "| ![Image](./preprocess/images\\img69-64.png) | ![Image](./preprocess/images\\img78-65.png) | ![Image](./preprocess/images\\img79-66.png) |\n",
       "| ![Image](./preprocess/images\\img79-67.png) | ![Image](./preprocess/images\\img80-68.png) | ![Image](./preprocess/images\\img80-69.png) |\n",
       "| ![Image](./preprocess/images\\img81-70.png) | ![Image](./preprocess/images\\img81-71.png) | ![Image](./preprocess/images\\img82-72.png) |\n",
       "\n",
       "---\n",
       "组合仪表包含多个显示区域和功能，具体包括：\n",
       "\n",
       "1. 左侧信息显示区域 - 显示当前车速、驾驶员辅助系统等相关信息。\n",
       "2. 挡位指示图标 - 显示车辆当前挡位。\n",
       "3. 右侧信息显示区域 - 显示多媒体、电话、胎压、车辆行程等信息，并会根据车辆状态弹出相应的报警提示信息。\n",
       "4. 纯电可续航里程 - 显示仅依靠动力电池剩余电量可行驶的距离。\n",
       "5. 动力电池电量 - 显示动力电池电量。\n",
       "6. 能量回收等级 - 显示当前能量回收等级（自动、低、中、高）。\n",
       "7. 驾驶模式 - 显示当前车辆的驾驶模式。\n",
       "8. 燃油量表 - 显示油箱中剩余的燃油油位。\n",
       "9. 剩余燃油可续航里程 - 显示剩余燃油可行驶的距离。\n",
       "\n",
       "此外，组合仪表还提供了多种功能设置，例如通过调光旋钮调节背光亮度、查看和重置行程信息等。"
      ],
      "text/plain": [
       "<IPython.core.display.Markdown object>"
      ]
     },
     "metadata": {},
     "output_type": "display_data"
    },
    {
     "data": {
      "text/plain": [
       "[NodeWithScore(node=TextNode(id_='88e694c2-0817-499d-9738-2820473df774', embedding=None, metadata={'file_path': './preprocess\\\\doc99-安全出行-73.md', 'page_number': 69}, excluded_embed_metadata_keys=[], excluded_llm_metadata_keys=[], relationships={}, metadata_template='{key}: {value}', metadata_separator='\\n', text='# 组合仪表\\n\\n![](images\\\\img69-64.png)01 左侧信息显示区域：显示车辆当前车速、驾驶员辅助系统等相\\n\\n关信息。\\n\\n02挡位指示图标：显示车辆当前挡位。\\n\\n03右侧信息显示区域：显示多媒体、电话、胎压、车辆行程信息\\n\\n等，同时会根据车辆状态弹出相应的报警提示信息。\\n\\n04纯电可续航里程：显示仅依靠动力电池剩余电量可行驶的距\\n\\n离。\\n\\n05动力电池电量：显示动力电池电量。\\n\\n06能量回收等级：显示车辆当前能量回收等级（自动、低、中、\\n\\n高）。\\n\\n07驾驶模式：显示当前车辆的驾驶模式。\\n\\n08燃油量表：显示油箱中剩余的燃油油位。\\n\\n09剩余燃油可续航里程：显示剩余燃油可行驶的距离。\\n', mimetype='text/plain', start_char_idx=None, end_char_idx=None, metadata_seperator='\\n', text_template='{metadata_str}\\n\\n{content}'), score=0.507996335838344),\n",
       " NodeWithScore(node=TextNode(id_='64ea7654-9b94-401c-87a0-6c3165d95388', embedding=None, metadata={'file_path': './preprocess\\\\doc99-安全出行-73.md', 'page_number': 80, '机舱盖/车门/尾门/安全带提醒界面': ['images\\\\img78-65.png'], '通过组合仪表查看行程信息': ['images\\\\img79-66.png'], '通过中央显示屏重置行程信息': ['images\\\\img79-67.png'], '组合仪表设置菜单': ['images\\\\img80-68.png']}, excluded_embed_metadata_keys=[], excluded_llm_metadata_keys=[], relationships={}, metadata_template='{key}: {value}', metadata_separator='\\n', text='# 查看组合仪表信息\\n\\n## 机舱盖/车门/尾门/安全带提醒界面\\n\\n当机舱盖/车门/尾门未关闭或安全带未系时，仪表显示屏将红色高亮\\n\\n显示未关闭机舱盖/车门/尾门或未系安全带座椅。\\n\\n\\n当车速小于10 km/h时，按下方向盘右侧确认按键。可以隐藏机舱盖/\\n\\n车门/尾门/安全带提醒界面。\\n\\n## 通过组合仪表查看行程信息\\n\\n\\n■短按RESET按键，循环切换累计行程、本次行程、车辆状态、轮\\n\\n胎状态等。\\n\\n■切换到累计行程或者本次行程时，长按RESET按键，重置当前行\\n\\n程信息。\\n\\n说明！\\n\\n□按下方向盘右侧键盘的左/右区域切到\\n\\n设置项，也可以查看行\\n\\n程信息。\\n\\n## 通过中央显示屏重置行程信息\\n\\n在中央显示屏中点击\\n\\n-车辆设置-其他，进入其他设置界面。\\n\\n\\n01 点击清零按钮，复位累计行程。\\n\\n02点击设置本次行程为停车清零或加油清零。\\n\\n## 组合仪表设置菜单\\n\\n1 按下方向盘\\n\\n，打开组合仪表设置菜单。\\n\\n2 按下方向盘右侧向左/向右按键，切换组合仪表一级菜单设置\\n\\n项；按下方向盘右侧向上/向下按键，切换组合仪表二级菜单设\\n\\n置项。\\n\\n\\n01 组合仪表设置项（行程信息、导航、多媒体、电话、HUD\\n\\n设置）。\\n\\n02组合仪表二级菜单设置项（不同组合仪表一级菜单设置项\\n\\n下，组合仪表二级菜单设置项不同）。\\n\\n■行程信息：可以查看车辆状态、胎压状态、机油状态等信息。\\n\\n■导航：可以设置“家”和“公司”两个快捷地址。\\n\\n■多媒体：可以播放音乐等。\\n\\n■电话：通过通话记录可以拨打电话等。\\n\\n■HUD设置：可以设置HUD功能。\\n\\n说明！\\n\\n□当组合仪表显示车门/安全带提醒界面时，只有先按下方向盘右\\n\\n侧确认按键，再按下方向盘的\\n\\n，才能打开组合仪表设置菜单。\\n', mimetype='text/plain', start_char_idx=None, end_char_idx=None, metadata_seperator='\\n', text_template='{metadata_str}\\n\\n{content}'), score=0.4695387209925809),\n",
       " NodeWithScore(node=TextNode(id_='04870b2b-ca14-4a4a-93e2-ab3b6e26a5de', embedding=None, metadata={'file_path': './preprocess\\\\doc99-安全出行-73.md', 'page_number': 82, '机舱盖/车门/尾门/安全带提醒界面': ['images\\\\img80-69.png'], '通过组合仪表查看行程信息': ['images\\\\img81-70.png'], '通过中央显示屏重置行程信息': ['images\\\\img81-71.png'], '组合仪表设置菜单': ['images\\\\img82-72.png']}, excluded_embed_metadata_keys=[], excluded_llm_metadata_keys=[], relationships={}, metadata_template='{key}: {value}', metadata_separator='\\n', text='# 查看组合仪表信息\\n\\n## 机舱盖/车门/尾门/安全带提醒界面\\n\\n当机舱盖/车门/尾门未关闭或安全带未系时，仪表显示屏将红色高亮\\n\\n显示未关闭机舱盖/车门/尾门或未系安全带座椅。\\n\\n\\n当车速小于10 km/h时，按下方向盘右侧确认按键。可以隐藏机舱盖/\\n\\n车门/尾门/安全带提醒界面。\\n\\n## 通过组合仪表查看行程信息\\n\\n\\n■短按RESET按键，循环切换累计行程、本次行程、车辆状态、轮\\n\\n胎状态等。\\n\\n■切换到累计行程或者本次行程时，长按RESET按键，重置当前行\\n\\n程信息。\\n\\n说明！\\n\\n□按下方向盘右侧键盘的左/右区域切到\\n\\n设置项，也可以查看行\\n\\n程信息。\\n\\n## 通过中央显示屏重置行程信息\\n\\n在中央显示屏中点击\\n\\n-车辆设置-其他，进入其他设置界面。\\n\\n\\n01 点击清零按钮，复位累计行程。\\n\\n02点击设置本次行程为停车清零或加油清零。\\n\\n## 组合仪表设置菜单\\n\\n1 按下方向盘\\n\\n，打开组合仪表设置菜单。\\n\\n2 按下方向盘右侧向左/向右按键，切换组合仪表一级菜单设置\\n\\n项；按下方向盘右侧向上/向下按键，切换组合仪表二级菜单设\\n\\n置项。\\n\\n\\n01 组合仪表设置项（行程信息、导航、多媒体、电话）。\\n\\n02组合仪表二级菜单设置项（不同组合仪表一级菜单设置项\\n\\n下，组合仪表二级菜单设置项不同）。\\n\\n■行程信息：可以查看车辆状态、胎压状态、机油状态等信息。\\n\\n■导航：可以设置“家”和“公司”两个快捷地址。\\n\\n■多媒体：可以播放音乐等。\\n\\n■电话：通过通话记录可以拨打电话等。\\n\\n说明！\\n\\n□当组合仪表显示车门/安全带提醒界面时，只有先按下方向盘右\\n\\n侧确认按键，再按下方向盘的\\n\\n，才能打开组合仪表设置菜单。\\n', mimetype='text/plain', start_char_idx=None, end_char_idx=None, metadata_seperator='\\n', text_template='{metadata_str}\\n\\n{content}'), score=0.45757671804533756),\n",
       " NodeWithScore(node=TextNode(id_='d5c0b764-103f-4df4-8bad-c9fb6238861f', embedding=None, metadata={'file_path': './preprocess\\\\doc99-安全出行-73.md', 'page_number': 354}, excluded_embed_metadata_keys=[], excluded_llm_metadata_keys=[], relationships={}, metadata_template='{key}: {value}', metadata_separator='\\n', text='# 缩略语和术语\\n\\n## 缩略语\\n\\n术语\\n\\n说明\\n\\n8AT\\n\\n8 速自动变速器\\n\\n3DHT\\n\\n3 挡混合动力变速器总成\\n\\nABS\\n\\n防抱死制动系统\\n\\nA/C\\n\\n空调制冷\\n\\nACC\\n\\n自适应巡航系统\\n\\nAEB\\n\\n主动式紧急刹车辅助系统\\n\\nAPA\\n\\n全自动泊车\\n\\nApp\\n\\n应用程序\\n\\nAQS\\n\\n空气质量管理系统\\n\\nARP\\n\\n防翻滚保护系统\\n\\nAWD\\n\\n四驱系统\\n\\nBSD\\n\\n盲点监测系统\\n\\nCBC\\n\\n弯道控制系统\\n\\nCMSF\\n\\n前向碰撞减缓系统\\n\\n术语\\n\\n说明\\n\\nCMSR\\n\\n后方碰撞预警系统\\n\\nCVW\\n\\n车辆快速接近警示系统\\n\\nDBS\\n\\n紧急制动辅助系统\\n\\nDOW\\n\\n开门预警系统\\n\\nDPS\\n\\n驾驶员状态监测系统\\n\\nD-TPMS\\n\\n主动式胎压监测系统\\n\\nEBD\\n\\n电子制动力分配系统\\n\\nEBL\\n\\n紧急制动警示灯\\n\\nE-call\\n\\n紧急救援\\n\\nEDR\\n\\n事件数据记录系统\\n\\nELKA\\n\\n紧急车道保持辅助系统\\n\\nELOW\\n\\n应急车道占用警示\\n\\nEMA\\n\\n紧急转向避让辅助系统\\n\\nEPB\\n\\n电子驻车制动\\n\\nESP\\n\\n车身稳定控制系统\\n\\nFCTA\\n\\n前方交叉路口预警系统\\n\\nFCW\\n\\n前方碰撞预警系统\\n\\n术语\\n\\n说明\\n\\nHDC\\n\\n陡坡缓降系统\\n\\nHSA\\n\\n坡道辅助系统\\n\\nHUD\\n\\n抬头显示\\n\\nHWA\\n\\n高速公路辅助系统\\n\\nLDW\\n\\n车道偏离警示系统\\n\\nLED\\n\\n发光二极管\\n\\nLIM\\n\\n最高限速辅助系统\\n\\nLKA\\n\\n车道保持辅助系统\\n\\nMAX\\n\\n最大\\n\\nMIN\\n\\n最小\\n\\nNFC\\n\\n近场通信\\n\\nOBD\\n\\n车载诊断\\n\\nPEB\\n\\n泊车紧急制动\\n\\nRAB\\n\\n预警制动系统\\n\\nRCTA\\n\\n后方横向来车预警系统\\n\\nRPA\\n\\n遥控泊车辅助\\n\\nTCS\\n\\n牵引力控制系统\\n\\n术语\\n\\n说明\\n\\nTLA\\n\\n交通灯提醒系统\\n\\nTSI\\n\\n交通标识识别系统\\n\\nUSB\\n\\n通用串行总线\\n\\nVIN\\n\\n车辆识别代码\\n\\nVPA\\n\\n语音助手\\n\\nWi-Fi\\n\\n某些类型的无线局域网\\n\\n## 公制术语\\n\\n术语\\n\\n说明\\n\\n%\\n\\n百分比\\n\\nX:1\\n\\n比值\\n\\n℃\\n\\n摄氏温度\\n\\nAh\\n\\n安时\\n\\nm\\n\\n米\\n\\ncm\\n\\n厘米\\n\\nmm\\n\\n毫米\\n\\ng\\n\\n克\\n\\nkg\\n\\n千克\\n\\nh\\n\\n小时\\n\\nmin\\n\\n分钟\\n\\ns\\n\\n秒\\n\\nrpm\\n\\n每分钟转数\\n\\nkm/h\\n\\n千米每小时\\n\\nL\\n\\n升\\n\\nmL\\n\\n毫升\\n\\n术语\\n\\n说明\\n\\nN\\n\\n牛\\n\\nNm\\n\\n牛米\\n\\nV\\n\\n伏特\\n\\nW\\n\\n瓦特\\n\\nkPa\\n\\n千帕\\n\\nkW\\n\\n千瓦\\n', mimetype='text/plain', start_char_idx=None, end_char_idx=None, metadata_seperator='\\n', text_template='{metadata_str}\\n\\n{content}'), score=0.42791863969882665),\n",
       " NodeWithScore(node=TextNode(id_='83ebc418-bb3e-4508-9444-e56e53b2c50b', embedding=None, metadata={'file_path': './preprocess\\\\doc99-安全出行-73.md', 'page_number': 91, '使用调光旋钮调节亮度': ['images\\\\img91-91.png', 'images\\\\img91-92.png']}, excluded_embed_metadata_keys=[], excluded_llm_metadata_keys=[], relationships={}, metadata_template='{key}: {value}', metadata_separator='\\n', text='# 调节背光亮度\\n\\n## 使用调光旋钮调节亮度\\n\\n\\n白天情况下，未开启整车背光联动时，转动调光旋钮仅调节开关背光\\n\\n亮度，开启整车背光联动时，转动调光旋钮可同时调节中央显示屏和\\n\\n开关背光的亮度。\\n\\n夜晚情况下，未开启整车背光联动时，转动调光旋钮可同时调节仪表\\n\\n显示屏和开关背光的亮度，开启整车背光联动时，转动调光旋钮可同\\n\\n时调节仪表显示屏、中央显示屏、开关背光的亮度。\\n\\n在中央显示屏中点击\\n\\n-设置-显示，进入显示设置界面。\\n\\n\\n01 点击开启/关闭整车背光联动。\\n\\n说明！\\n\\n□外界环境光照较强时，您可能会看不见开关背光。\\n', mimetype='text/plain', start_char_idx=None, end_char_idx=None, metadata_seperator='\\n', text_template='{metadata_str}\\n\\n{content}'), score=0.4145672261541459)]"
      ]
     },
     "execution_count": 11,
     "metadata": {},
     "output_type": "execute_result"
    }
   ],
   "source": [
    "query_str='组合仪表内容介绍？'\n",
    "response = query_engine.query(query_str)\n",
    "show_response(response)\n",
    "response.source_nodes"
   ]
  },
  {
   "cell_type": "code",
   "execution_count": 12,
   "metadata": {},
   "outputs": [
    {
     "data": {
      "text/markdown": [
       "\n",
       "---\n",
       "遥控泊车（RPA）是一种通过Lynk & Co App，在车外一定范围内控制车辆进行泊入、泊出、直线前进或后退的远程泊车功能。它主要包括以下几种功能：直线遥控功能，遥控泊入功能以及遥控泊出功能。使用此功能前需要阅读并同意免责声明，并且作为驾驶员您应遵守相关法律要求并对安全停车承担全部责任。"
      ],
      "text/plain": [
       "<IPython.core.display.Markdown object>"
      ]
     },
     "metadata": {},
     "output_type": "display_data"
    },
    {
     "data": {
      "text/plain": [
       "[NodeWithScore(node=TextNode(id_='f1695fb9-f448-439b-a200-2ad8dc3b256c', embedding=None, metadata={'file_path': './preprocess\\\\doc99-安全出行-73.md', 'page_number': 236, '直线遥控功能': ['images\\\\img233-261.png'], '遥控泊入功能': ['images\\\\img234-262.png'], '遥控泊出功能': ['images\\\\img234-263.png', 'images\\\\img235-264.png', 'images\\\\img235-265.png']}, excluded_embed_metadata_keys=[], excluded_llm_metadata_keys=[], relationships={}, metadata_template='{key}: {value}', metadata_separator='\\n', text='# 遥控泊车\\n\\n遥控泊车（RPA）是一种远程泊车控制功能，可在车外一定范围内使\\n\\n用Lynk & Co App控制车辆进行泊入、泊出、直线前进或后退。\\n\\nRPA主要包含以下功能：\\n\\n■直线遥控功能。\\n\\n■遥控泊入功能。\\n\\n■遥控泊出功能。\\n\\n说明！\\n\\n□通过Lynk & Co App使用RPA功能前需要阅读并同意免责声明，因\\n\\n此请认真阅读免责声明，确保在已知晓并接受相关条件或条款的\\n\\n情况下开启并使RPA功能。\\n\\n□遥控泊车辅助在泊车入位过程中会代替驾驶员执行转向和制动的\\n\\n操作，但驾驶员仍需注意观察周围环境，必要时结束泊车过程，\\n\\n以避免某些障碍物因系统无法识别而影响行车安全。\\n\\n□作为驾驶员，您应遵守相关法律要求，并对安全停车承担全部责\\n\\n任。\\n\\nRPA可支持三种车位：水平车位、垂直车位、斜列车位。\\n\\n\\n说明\\n\\n□RPA工作时车辆会自动执行转向和制动操作。\\n\\n## 直线遥控功能\\n\\n启用RPA功能后，可以按照以下步骤控制车辆直线行驶：\\n\\n1 启用RPA：在Lynk & Co App主界面中点击\\n\\n功能按键，开启RPA\\n\\n功能。\\n\\n2 控制车辆：在RPA控制界面，控制车辆向前或向后移动。松开按\\n\\n键车辆静止。\\n\\n\\n01 长按\\n\\n控制车辆向前直线行驶。\\n\\n02长按\\n\\n控制车辆向前直线行驶。\\n\\n3 泊车完成：点击“结束”按键，退出直线遥控功能。\\n\\n说明！\\n\\n□每次直线前进或后退的移动距离有限制。\\n\\n## 遥控泊入功能\\n\\n1 启用自动泊车：在中央显示屏中点击\\n\\n-自动泊车。\\n\\n2 车位搜索：以小于25 km/h的速度缓慢向前行驶，直到中央显示\\n\\n屏显示搜索到停车位。\\n\\n3 选择停车位：在中央显示屏上选择需要泊入的停车位，选中后该\\n\\n停车位高亮显示。\\n\\n4 选择泊车方式：点击“遥控泊车”按键，选择使用RPA功能。依\\n\\n据中央显示屏提示信息，携带手机和遥控钥匙下车。\\n\\n5 启用RPA功能：在Lynk & Co App主界面中点击\\n\\n功能按键，开\\n\\n启RPA功能。\\n\\n6 控制车辆：点击“开始泊车”按键，RPA控制车辆泊入停车位。\\n\\n\\n7 泊车完成：车辆成功泊入车位后，RPA控制车辆上锁并启用防盗\\n\\n系统。\\n\\n## 遥控泊出功能\\n\\n1 启用RPA：在Lynk & Co App主界面中点击\\n\\n功能按键，开启RPA\\n\\n功能。\\n\\n2 选择遥控方式：在RPA控制界面中，点击“泊出”按键，选择使\\n\\n用遥控泊出功能。\\n\\n\\n3 选择泊出方式：在泊出选择界面中选择遥控泊出方式和泊出方\\n\\n向。\\n\\n\\n01 点击选择垂直泊出方向。\\n\\n02点击选择水平泊出方向。\\n\\n4 控制车辆：点击“开始泊车”按键，RPA控制车辆泊出停车位。\\n\\n\\n5 泊车完成：Lynk & Co App上会提示泊车完成，此时驾驶员可以接\\n\\n管车辆。\\n\\n## 的局限性\\n\\nRPA使用泊车辅助传感器和泊车辅助摄像头检测外界障碍物。RPA传\\n\\n感器可能对高度较低的障碍物、车身上方或侧面障碍物、较狭窄物体\\n\\n等类型的障碍物检测受限，您需要始终关注周边环境，否则可能导致\\n\\n财产损失或人身伤害，包括但不限于：\\n\\n■行人、儿童、动物。\\n\\n■开启的地锁，低矮石墩、圆柱体、细杆、尖锐物体，地面的坑洞\\n\\n等。\\n\\n■限高门，杆或悬空的结构物。\\n\\n■车身侧方可能导致碰撞和刮擦的障碍物。\\n\\n■自行车，墙角，停车场方柱边角等。\\n\\n警告！\\n\\n■使用RPA功能前，确保车辆附近没有人员或障碍物，并时刻观察\\n\\n车辆附近环境，必要时暂停RPA功能。\\n\\n■使用RPA功能前，请确保方向盘已回正。\\n\\n■请勿在车内使用RPA功能。\\n\\n■请勿在有坡度、积雪、积水、凹坑等道路使用RPA功能。\\n\\n■RPA功能激活后，用户从Lynk & Co App上松开前进或后退按键，\\n\\n由于存在时延，车辆仍会运动一段距离，意识到有碰撞风险请提\\n\\n前松开按键。\\n\\n■泊车辅助传感器仅在探测到障碍物时发出警告，因此可能不会发\\n\\n出警告信息或延迟发出警告信息，也可能发出不必要的警告信\\n\\n息。您始终有责任安全审慎地遥控车辆，完全依赖泊车辅助传感\\n\\n器对潜在碰撞进行警告可能会造成严重人身伤害和财产损失（包\\n\\n括车辆损坏）。\\n\\n■请确保所有泊车辅助摄像头和泊车辅助传感器表面无覆盖物或无\\n\\n脏污，否则会影响RPA功能的性能，可能会导致与周围障碍物发\\n\\n生刮蹭。\\n\\n■在雨雪天气下受到强光直射，可能会影响泊车辅助摄像头和泊车\\n\\n辅助传感器等传感器的工作性能，导致RPA功能性能下降，可能\\n\\n会导致与周围障碍物发生挂蹭。\\n\\n■RPA功能仅限用户在车辆周围环境可预测的停车场或车库使用。\\n\\n■RPA功能的性能取决于泊车辅助传感器探测到的障碍物、车辆、\\n\\n人或其他物体与车辆的距离接近程度。\\n\\n说明！\\n\\n□使用RPA功能前，请确保车门、尾门、前舱盖均已关闭且车辆闭\\n\\n锁。\\n\\n□RPA功能激活至车辆运动时间较长，请耐心等待。\\n\\n□蓝牙信号不稳定时，RPA功能可能会退出。\\n', mimetype='text/plain', start_char_idx=None, end_char_idx=None, metadata_seperator='\\n', text_template='{metadata_str}\\n\\n{content}'), score=0.6416073030229329),\n",
       " NodeWithScore(node=TextNode(id_='b0892d73-4961-4aa7-b75a-5817d5f4c018', embedding=None, metadata={'file_path': './preprocess\\\\doc99-安全出行-73.md', 'page_number': 232, '全自动泊车界面': ['images\\\\img231-259.png']}, excluded_embed_metadata_keys=[], excluded_llm_metadata_keys=[], relationships={}, metadata_template='{key}: {value}', metadata_separator='\\n', text='# 全自动泊车\\n\\n全自动泊车（APA）通过环视摄像头和超声波传感器检测地面划线车\\n\\n位或两车间隔的车位，辅助驾驶员泊入或泊出停车位。\\n\\n警告！\\n\\n■作为驾驶员，您应遵守相关法律要求，并对安全停车承担全部责\\n\\n任。\\n\\n■即使APA功能处于启用状态，您始终有责任在必要时主动介入，\\n\\n握住方向盘或踩下制动踏板。\\n\\n说明！\\n\\n□当使用APA将车辆停放在紧靠路边沿的停车位时，功能设定的运\\n\\n行轨迹可能会超出路边沿，因此您需要根据实际情况切换挡位，\\n\\n以防止凸起的路肩损坏轮胎或车轮。\\n\\n□使用非原厂轮胎或不正确的充气压力可能会影响APA的泊车辅助\\n\\n性能。\\n\\n□使用APA功能时，请注意观察周围环境，准备根据中央显示屏上\\n\\n的提示进行制动/停车。\\n\\nAPA可支持三种车位：水平车位、垂直车位、斜列车位。\\n\\n\\n## 启用/关闭全自动泊车（APA）\\n\\n您可以通过以下方式启用APA：\\n\\n■在中央显示屏中点击\\n\\n-自动泊车。\\n\\n■在360°全景界面点击\\n\\n图标。\\n\\n## 全自动泊车界面\\n\\n\\n01 A区域。\\n\\n02B区域。\\n\\n03点击进入全自动泊车设置界面。\\n\\n04点击进入360°全景界面。\\n\\n05点击选择使用泊出停车位功能。\\n\\n06点击选择使用泊入停车位功能\\n\\n07点击退出全自动泊车。\\n\\n08C区域。\\n\\n说明！\\n\\n□A区域显示请制动、请松开制动踏板等提示性信息。\\n\\n□B区域显示自动泊车工作时影像视图和车道轨迹线。\\n\\n□C区域显示自动泊车工作时2D俯视图，您也可以在该区域选择所\\n\\n需停车位或需要使用的泊车方式。\\n\\n□APA会依据当前车辆状态自动判断，需要泊入还是泊出。若系统\\n\\n判断与实际需求不符时，您可以手动选择使用泊入/泊出功能。\\n\\n## 设置自动泊车界面\\n\\n在自动泊车界面点击\\n\\n图标，开启/关闭以下功能：\\n\\n■无感泊车激活：开启该功能后，后台自动搜索停车位，在车辆静\\n\\n止状态踩下制动踏板并挂入R挡时，中央显示屏自动切换至自动\\n\\n泊车界面。\\n\\n## 车辆泊入停车位\\n\\n启用APA功能后，可以按照以下步骤泊入停车位：\\n\\n1 车位搜索：以小于25 km/h的速度缓慢向前行驶，直到中央显示\\n\\n屏显示搜索到停车位。\\n\\n2 选择停车位：在中央显示屏上选择需要泊入的停车位，选中后该\\n\\n停车位高亮显示。\\n\\n3 选择泊车方式：点击“开始泊车”按键，选择使用APA。\\n\\n4 泊车运行：依据中央显示屏提示信息，松开方向盘和制动踏板。\\n\\nAPA控制车速和转向，辅助驾驶员泊入停车位。\\n\\n5 泊车完成：自动泊入完成后，中央显示屏显示泊车完成信息。\\n\\n说明！\\n\\n□完成泊车后，您可能还需要进一步调整车辆位置，确保正确停\\n\\n车。\\n\\n## 车辆泊出停车位\\n\\n车辆静止状态下，启用APA功能后，可以按照以下步骤泊入停车位：\\n\\n1 选择泊出方向：在中央显示屏上选择泊出方向。\\n\\n2 选择泊车方式：点击“开始泊出”按键，选择使用APA。\\n\\n3 泊车运行：依据中央显示屏提示信息，松开方向盘和制动踏板。\\n\\nAPA控制车速和转向，辅助驾驶员泊出停车位。\\n\\n4 泊车完成：自动泊入完成后，中央显示屏显示泊车完成信息。\\n\\n## 全自动泊车局限性\\n\\n当出现以下情况时，APA会终止，并强制退出，此时您必须接管车辆\\n\\n控制权。\\n\\n■泊车空间过小。\\n\\n■泊车超速、超时。\\n\\n■使用防滑链时。\\n\\n更多全自动泊车的局限性相关信息，请参见泊车辅助传感器章节。\\n', mimetype='text/plain', start_char_idx=None, end_char_idx=None, metadata_seperator='\\n', text_template='{metadata_str}\\n\\n{content}'), score=0.498375073973695),\n",
       " NodeWithScore(node=TextNode(id_='f746e567-001a-4693-bf08-d0f73d285ad8', embedding=None, metadata={'file_path': './preprocess\\\\doc99-安全出行-73.md', 'page_number': 226, '中央显示屏提示信息': ['images\\\\img226-255.png']}, excluded_embed_metadata_keys=[], excluded_llm_metadata_keys=[], relationships={}, metadata_template='{key}: {value}', metadata_separator='\\n', text='# 泊车辅助系统\\n\\n车辆低速行驶时，泊车辅助系统通过雷达传感器检测车辆后方是否有\\n\\n障碍物，并通过声音提示驾驶员车辆与障碍物之间的距离。\\n\\n\\n车辆启动后，您将换挡杆切换至倒挡（R）进行倒车时，后泊车辅助\\n\\n系统自动启用，声音警告信号在车辆离后方物体1.5 m时启用。\\n\\n警告！\\n\\n■作为驾驶员，您应遵守相关法律要求，并对安全停车承担全部责\\n\\n任。\\n\\n■泊车辅助系统是一种辅助功能，在使用过程中您仍需注意观察周\\n\\n围环境。\\n\\n## 中央显示屏提示信息\\n\\n\\n01 扇形区域。\\n\\n02距离指示条。\\n\\n03点击\\n\\n图标，开启/关闭报警音提示。\\n\\n突出显示的扇形区域或距离指示条表明在该区域已检测到物体。车辆\\n\\n越来越靠近物体时，突出显示的扇形区域或距离指示条将从灰色、黄\\n\\n色变为红色。根据是在哪一侧检测到的物体，这一侧扇形区域或距离\\n\\n指示条会单独改变颜色。您将听到报警声音，且车辆离物体越近，报\\n\\n警声音频率越高。\\n\\n说明！\\n\\n□在泊车辅助界面上，双指向左滑动屏幕，可隐藏泊车辅助界面。\\n\\n## 泊车辅助系统的局限性\\n\\n关于泊车辅助系统局限性，请参见泊车辅助传感器章节。\\n', mimetype='text/plain', start_char_idx=None, end_char_idx=None, metadata_seperator='\\n', text_template='{metadata_str}\\n\\n{content}'), score=0.46794708226193277),\n",
       " NodeWithScore(node=TextNode(id_='fd53960a-b5f9-4dee-8063-7bf5becc7579', embedding=None, metadata={'file_path': './preprocess\\\\doc99-安全出行-73.md', 'page_number': 225, '开启/关闭泊车辅助系统': ['images\\\\img224-252.png'], '中央显示屏提示信息': ['images\\\\img224-253.png']}, excluded_embed_metadata_keys=[], excluded_llm_metadata_keys=[], relationships={}, metadata_template='{key}: {value}', metadata_separator='\\n', text='# 泊车辅助系统\\n\\n当车辆低速行驶时，泊车雷达系统通过雷达传感器检测车辆前方、后\\n\\n方、侧面是否有障碍物，并通过声音提示驾驶员车辆与障碍物之间的\\n\\n距离。\\n\\n\\n警告！\\n\\n■作为驾驶员，您应遵守相关法律要求，并对安全停车承担全部责\\n\\n任。\\n\\n■泊车辅助系统是一种辅助功能，在使用过程中您仍需注意观察周\\n\\n围环境。\\n\\n## 开启/关闭泊车辅助系统\\n\\n在中央显示屏中点击\\n\\n-Lynk Co-Pilot-泊车，进入泊车设置界面。\\n\\n\\n01 点击开启/关闭泊车辅助系统。\\n\\n说明！\\n\\n□车辆处于静止状态并挂入倒挡（R）时，泊车雷达系统自动启\\n\\n用。\\n\\n□在中央显示屏上开启泊车雷达系统，当车辆处于静止状态并挂入\\n\\n前进挡（D）时，泊车雷达系统自动启用。\\n\\n□通过中央显示屏关闭泊车雷达系统后，车辆挂入前进挡（D）向\\n\\n前行驶时，泊车雷达系统不能检测车辆前方、侧面是否有障碍\\n\\n物。\\n\\n□车速超过15 km/h行驶时，泊车雷达系统自动退出。\\n\\n## 中央显示屏提示信息\\n\\n\\n01 扇形区域。\\n\\n02距离指示条。\\n\\n03点击\\n\\n图标，开启/关闭报警音提示。\\n\\n突出显示的扇形区域或距离指示条表明在该区域已检测到物体。车辆\\n\\n越来越靠近物体时，突出显示的扇形区域或距离指示条将从灰色、黄\\n\\n色变为红色。根据是在哪一侧检测到的物体，这一侧扇形区域或距离\\n\\n指示条会单独改变颜色。您将听到报警声音，且车辆离物体越近，报\\n\\n警声音频率越高。\\n\\n说明！\\n\\n□在泊车辅助界面上，双指向左滑动屏幕，可隐藏泊车辅助界面。\\n\\n## 泊车辅助系统检测范围\\n\\n检测区域\\n\\n检测范围（米）\\n\\n后部两侧\\n\\n0.3\\n\\n后部中央\\n\\n1.5\\n\\n前部两侧\\n\\n0.3\\n\\n前部中央\\n\\n0.9\\n\\n## 泊车辅助系统局限性\\n\\n关于泊车辅助系统局限性，请参见泊车辅助传感器章节。\\n', mimetype='text/plain', start_char_idx=None, end_char_idx=None, metadata_seperator='\\n', text_template='{metadata_str}\\n\\n{content}'), score=0.4618335979684508),\n",
       " NodeWithScore(node=TextNode(id_='dc5ac796-1b65-4e9b-bc10-cddca290d876', embedding=None, metadata={'file_path': './preprocess\\\\doc99-安全出行-73.md', 'page_number': 223, '泊车辅助传感器位置': ['images\\\\img221-250.png']}, excluded_embed_metadata_keys=[], excluded_llm_metadata_keys=[], relationships={}, metadata_template='{key}: {value}', metadata_separator='\\n', text='# 泊车辅助传感器\\n\\n## 泊车辅助传感器位置\\n\\n\\n泊车辅助传感器位置\\n\\n01 前摄像头。\\n\\n02外后视镜摄像头-右侧。\\n\\n03外后视镜摄像头-左侧。\\n\\n04后摄像头。\\n\\n05后泊车辅助雷达-右外。\\n\\n06后泊车辅助雷达-右内。\\n\\n07后泊车辅助雷达-左内。\\n\\n08后泊车辅助雷达-左外。\\n\\n## 泊车辅助摄像头局限性\\n\\n泊车辅助摄像头有一定的局限性：\\n\\n■泊车辅助摄像头的视野有限，泊车时请注意观察周围环境。\\n\\n■泊车辅助摄像头图像根据车辆周边环境亮度自适应调节，当环境\\n\\n亮度不足，会降低中央显示屏上摄像头图像的质量。\\n\\n■若中央显示屏亮度低，会降低泊车辅助摄像头图像的质量。\\n\\n■请您在雨天关注周边环境，泊车辅助摄像头表面可能会被水覆\\n\\n盖，导致影像失真。\\n\\n■将任何物体（例如：胶带、贴花等）贴在泊车辅助摄像头上，会\\n\\n影响与之相关系统的功能。\\n\\n■受泊车辅助摄像头安装位置影响，当车辆以非直线行驶时，处于\\n\\n行驶方向的车轮轨迹外的障碍物可能无法被探测到。\\n\\n■某些场景会对泊车辅助摄像头的探测造成影响（如有防护栏的道\\n\\n路、隧道内、前方车辆驶入/驶出、急转弯道路等）。\\n\\n■强烈的阳光、反光、光线较暗的场景下可能会使您难以看到视觉\\n\\n警告信号，也可能影响泊车辅助摄像头的探测功能。\\n\\n警告！\\n\\n■泊车辅助摄像头的设计意图是在驻车时提供辅助。但是，泊车辅\\n\\n助摄像头并不能替代您的注意力和判断力。\\n\\n■倒车前，若您发现儿童或物体从后摄像头视图突然消失，请重新\\n\\n检查。该儿童或物体可能已经进入了泊车辅助摄像头的盲点。\\n\\n■泊车时注意四周，包括可能进入车道的人或物体。\\n\\n## 泊车辅助雷达局限性\\n\\n泊车辅助雷达有一定的局限性：\\n\\n■如果泊车辅助雷达受到诸如尘土、雪或冰的阻塞，可能会导致泊\\n\\n车辅助系统发出错误的警告信号。\\n\\n■将任何物体（例如：胶带、贴花等）贴在泊车辅助雷达上，会影\\n\\n响与之相关系统的功能。\\n\\n■当车辆上下陡坡时，泊车辅助系统可能会误报。\\n\\n■泊车辅助雷达无法检测到离地面较高（大约处于1.5 m以上）的\\n\\n障碍物。\\n\\n■泊车辅助雷达可能无法及时对动物、小型车辆（如三轮车）、外\\n\\n表不规则车辆、骑行者、横穿或迎面而来的移动物体（行人、动\\n\\n物、车辆等）或车辆侧面的物体做出反应。\\n\\n■泊车辅助雷达无法检测到用特定材料制成的物体或人们穿着的由\\n\\n特定面料做成的衣服。\\n\\n■泊车辅助雷达可能无法检测到（例如：链条、铁丝网、矮树丛、\\n\\n柱子的棱角、窄面、光滑的斜面、车位锁、专用车位指示牌等）\\n\\n较低的物体。\\n\\n■泊车辅助雷达无法识别的障碍物（例如：停车场起停杆、树、\\n\\n草、铁链、绳索、墙柱、栅栏、低矮障碍物、吸波物体、反光物\\n\\n体等），可能会发生误报、漏报障碍物的情况。您需要时刻注意\\n\\n周围情况，避免发生事故。\\n\\n■泊车辅助雷达无法检测到地面上较平的物体、保险杠下的物体、\\n\\n离车辆太近或太远的物体。\\n\\n■切勿加装非原厂的附件，如挡泥板、防撞条等，否则可能导致泊\\n\\n车辅助系统无法正常工作。\\n\\n警告！\\n\\n■当车辆受到撞击或强烈振动时泊车辅助雷达的位置可能会产生偏\\n\\n移，从而导致系统性能下降，严重时系统会有故障提示，若存在\\n\\n异常情况，请立即联系Lynk & Co领克中心。\\n\\n说明！\\n\\n□泊车辅助雷达会受到无线电干扰，当车辆靠近通讯基站等电磁辐\\n\\n射较强的地方时，泊车辅助雷达可能无法工作。\\n\\n□在某些环境下，泊车辅助雷达可能会发出未预料到的警告信号，\\n\\n该信号可能是因使用和系统相同超声波频率的外部声源造成的。\\n\\n这些声源可能包括其他车辆的喇叭、沥青地上滚动的潮湿的轮\\n\\n胎、气动制动器、摩托车排气管、配有类似超声波系统的其他车\\n\\n辆等。发出该信号并不表示系统中存在故障。\\n\\n□雨天或多水的路面可能触发泊车辅助雷达误报警。\\n', mimetype='text/plain', start_char_idx=None, end_char_idx=None, metadata_seperator='\\n', text_template='{metadata_str}\\n\\n{content}'), score=0.4605227051474483)]"
      ]
     },
     "execution_count": 12,
     "metadata": {},
     "output_type": "execute_result"
    }
   ],
   "source": [
    "query_str='什么是遥控泊车（RPA）？'\n",
    "response = query_engine.query(query_str)\n",
    "show_response(response)\n",
    "response.source_nodes"
   ]
  }
 ],
 "metadata": {
  "kernelspec": {
   "display_name": "langchian",
   "language": "python",
   "name": "python3"
  },
  "language_info": {
   "codemirror_mode": {
    "name": "ipython",
    "version": 3
   },
   "file_extension": ".py",
   "mimetype": "text/x-python",
   "name": "python",
   "nbconvert_exporter": "python",
   "pygments_lexer": "ipython3",
   "version": "3.10.14"
  }
 },
 "nbformat": 4,
 "nbformat_minor": 2
}
