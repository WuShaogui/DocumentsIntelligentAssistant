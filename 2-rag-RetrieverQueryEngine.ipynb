{
 "cells": [
  {
   "cell_type": "code",
   "execution_count": 1,
   "metadata": {},
   "outputs": [],
   "source": [
    "import os\n",
    "import re\n",
    "\n",
    "from llama_index.core import Settings\n",
    "from llama_index.llms.ollama import Ollama\n",
    "from llama_index.embeddings.ollama import OllamaEmbedding\n",
    "from llama_index.core import SimpleDirectoryReader,VectorStoreIndex\n",
    "from llama_index.core import StorageContext,load_index_from_storage\n",
    "from llama_index.core import PromptTemplate\n",
    "from llama_index.core.prompts import PromptType"
   ]
  },
  {
   "cell_type": "code",
   "execution_count": 2,
   "metadata": {},
   "outputs": [],
   "source": [
    "# 设置llm模型\n",
    "llm_name=\"qwen2.5:latest\"\n",
    "embedding_name=\"quentinz/bge-large-zh-v1.5:latest\"\n",
    "base_url='http://localhost:11434'\n",
    "\n",
    "Settings.llm = Ollama(\n",
    "    model=llm_name, \n",
    "    request_timeout=360.0,\n",
    "    base_url=base_url)\n",
    "\n",
    "# 设置embedding model \n",
    "Settings.embed_model = OllamaEmbedding(\n",
    "    model_name=embedding_name,\n",
    "    base_url=base_url)"
   ]
  },
  {
   "cell_type": "code",
   "execution_count": 3,
   "metadata": {},
   "outputs": [
    {
     "name": "stderr",
     "output_type": "stream",
     "text": [
      "Loading files: 100%|██████████| 222/222 [00:00<00:00, 1408.04file/s]\n",
      "c:\\Users\\wushaogui\\miniconda3\\envs\\langchian\\lib\\site-packages\\tqdm\\auto.py:21: TqdmWarning: IProgress not found. Please update jupyter and ipywidgets. See https://ipywidgets.readthedocs.io/en/stable/user_install.html\n",
      "  from .autonotebook import tqdm as notebook_tqdm\n",
      "Parsing nodes: 100%|██████████| 626/626 [00:00<00:00, 2617.82it/s]\n",
      "Generating embeddings: 100%|██████████| 637/637 [00:22<00:00, 27.88it/s]\n"
     ]
    }
   ],
   "source": [
    "import glob\n",
    "from llama_index.core.schema import TextNode\n",
    "\n",
    "data_path='./preprocess/'\n",
    "vertordb_dir='vector_storage'\n",
    "\n",
    "if os.path.exists(vertordb_dir):\n",
    "    storage_context=StorageContext.from_defaults(persist_dir=vertordb_dir)\n",
    "    index=load_index_from_storage(storage_context=storage_context)\n",
    "else:\n",
    "    documents = SimpleDirectoryReader(data_path,required_exts=[\".md\"]).load_data(show_progress=True)\n",
    "    index=VectorStoreIndex.from_documents(documents=documents,show_progress=True)\n",
    "    index.storage_context.persist(persist_dir=vertordb_dir)\n",
    "\n",
    "from llama_index.core.vector_stores.types import VectorStoreQueryMode,MetadataFilters\n",
    "\n",
    "query_engine= index.as_query_engine(similarity_top_k=3)"
   ]
  },
  {
   "cell_type": "code",
   "execution_count": 4,
   "metadata": {},
   "outputs": [
    {
     "name": "stdout",
     "output_type": "stream",
     "text": [
      "要从锁定状态唤醒中央显示器，可以点击中央显示屏上的任意位置，或者长按中控台按钮。\n"
     ]
    },
    {
     "data": {
      "text/plain": [
       "[NodeWithScore(node=TextNode(id_='71590979-5b85-4c11-84a0-b40a1c7bc0af', embedding=None, metadata={'file_path': 'c:\\\\CodeRepos\\\\python\\\\MyCode\\\\DocumentsIntelligentAssistant\\\\preprocess\\\\doc262-中央显示屏-164.md', 'file_name': 'doc262-中央显示屏-164.md', 'file_size': 1336, 'creation_date': '2024-12-19', 'last_modified_date': '2024-12-19'}, excluded_embed_metadata_keys=['file_name', 'file_type', 'file_size', 'creation_date', 'last_modified_date', 'last_accessed_date'], excluded_llm_metadata_keys=['file_name', 'file_type', 'file_size', 'creation_date', 'last_modified_date', 'last_accessed_date'], relationships={<NodeRelationship.SOURCE: '1'>: RelatedNodeInfo(node_id='29c9499e-e6f7-40b3-8377-d1ee7885b19a', node_type='4', metadata={'file_path': 'c:\\\\CodeRepos\\\\python\\\\MyCode\\\\DocumentsIntelligentAssistant\\\\preprocess\\\\doc262-中央显示屏-164.md', 'file_name': 'doc262-中央显示屏-164.md', 'file_size': 1336, 'creation_date': '2024-12-19', 'last_modified_date': '2024-12-19'}, hash='a0f52e39782ac4f7cd08def46329c36c38480b03ae950c1d54f9fdcfb895ff46')}, metadata_template='{key}: {value}', metadata_separator='\\n', text='中央显示屏\\n说明！\\r\\n□本章节描述该车型系列中所有的功能配置，所列举的部分功能由\\r\\n于车型、车辆配置或市场区域等差异可能不适用于您的车辆。具\\r\\n体相关信息请以实际车辆为准。\\r\\n车辆的很多功能均可通过中央显示屏控制和调节。中央显示屏为触摸\\r\\n屏，可进行触摸操作。\\r\\n!副仪表台按钮可以对中央显示屏进行以下操作：\\r\\n旋转按钮：增加/减小音量。\\r\\n按压按钮：\\r\\n■短按暂停或播放音乐/视频。\\r\\n■长按约5 秒锁屏/待机模式，在锁屏模式下，点击中央显示屏上\\r\\n的任意位置或长按中控台按钮可以重新解锁屏幕。', mimetype='text/plain', start_char_idx=2, end_char_idx=250, metadata_seperator='\\n', text_template='{metadata_str}\\n\\n{content}'), score=0.5579130275979667),\n",
       " NodeWithScore(node=TextNode(id_='484463c6-2548-495a-95fa-643fe13044af', embedding=None, metadata={'file_path': 'c:\\\\CodeRepos\\\\python\\\\MyCode\\\\DocumentsIntelligentAssistant\\\\preprocess\\\\doc264-中央显示屏-166.md', 'file_name': 'doc264-中央显示屏-166.md', 'file_size': 1023, 'creation_date': '2024-12-19', 'last_modified_date': '2024-12-19'}, excluded_embed_metadata_keys=['file_name', 'file_type', 'file_size', 'creation_date', 'last_modified_date', 'last_accessed_date'], excluded_llm_metadata_keys=['file_name', 'file_type', 'file_size', 'creation_date', 'last_modified_date', 'last_accessed_date'], relationships={<NodeRelationship.SOURCE: '1'>: RelatedNodeInfo(node_id='868641be-52a4-4161-a668-182bdbe63826', node_type='4', metadata={'file_path': 'c:\\\\CodeRepos\\\\python\\\\MyCode\\\\DocumentsIntelligentAssistant\\\\preprocess\\\\doc264-中央显示屏-166.md', 'file_name': 'doc264-中央显示屏-166.md', 'file_size': 1023, 'creation_date': '2024-12-19', 'last_modified_date': '2024-12-19'}, hash='eae869c4baeaffdd4f51ae80c487b88f3736cb160a0b7a5a17de4a82d9dac28a')}, metadata_template='{key}: {value}', metadata_separator='\\n', text='调节中央显示屏显示模式\\n在中央显示屏中点击\\r\\n-设置-显示，进入显示设置界面。\\r\\n!01 点击设置中央显示屏显示模式（日间模式、夜间模式、自\\r\\n动）。\\r\\n说明！\\r\\n您可以依据个人喜好选择自动模式：\\r\\n□日出到日落：白天显示日间模式，晚上显示夜间模式。\\r\\n□自定时段：依据设置的时间段切换显示模式。\\r\\n□日夜模式选择自动模式后，中央显示屏会自动切换日间模式\\r\\n或夜间模式。', mimetype='text/plain', start_char_idx=2, end_char_idx=187, metadata_seperator='\\n', text_template='{metadata_str}\\n\\n{content}'), score=0.5383196124412383),\n",
       " NodeWithScore(node=TextNode(id_='5d833205-dfdd-4bb2-9464-47915da3195c', embedding=None, metadata={'file_path': 'c:\\\\CodeRepos\\\\python\\\\MyCode\\\\DocumentsIntelligentAssistant\\\\preprocess\\\\doc263-中央显示屏-165.md', 'file_name': 'doc263-中央显示屏-165.md', 'file_size': 1023, 'creation_date': '2024-12-19', 'last_modified_date': '2024-12-19'}, excluded_embed_metadata_keys=['file_name', 'file_type', 'file_size', 'creation_date', 'last_modified_date', 'last_accessed_date'], excluded_llm_metadata_keys=['file_name', 'file_type', 'file_size', 'creation_date', 'last_modified_date', 'last_accessed_date'], relationships={<NodeRelationship.SOURCE: '1'>: RelatedNodeInfo(node_id='66cf2c65-cf19-4d90-a45c-a537bccd6d81', node_type='4', metadata={'file_path': 'c:\\\\CodeRepos\\\\python\\\\MyCode\\\\DocumentsIntelligentAssistant\\\\preprocess\\\\doc263-中央显示屏-165.md', 'file_name': 'doc263-中央显示屏-165.md', 'file_size': 1023, 'creation_date': '2024-12-19', 'last_modified_date': '2024-12-19'}, hash='b75a5139b2744808050c778138d0e25ff03c860d07456b635bd8584e301597ef')}, metadata_template='{key}: {value}', metadata_separator='\\n', text='调节中央显示屏显示模式\\n在中央显示屏中点击\\r\\n-设置-显示，进入显示设置界面。\\r\\n!01 点击设置中央显示屏显示模式（日间模式、夜间模式、自\\r\\n动）。\\r\\n说明！\\r\\n您可以依据个人喜好选择自动模式：\\r\\n□日出到日落：白天显示日间模式，晚上显示夜间模式。\\r\\n□自定时段：依据设置的时间段切换显示模式。\\r\\n□日夜模式选择自动模式后，中央显示屏会自动切换日间模式\\r\\n或夜间模式。', mimetype='text/plain', start_char_idx=2, end_char_idx=187, metadata_seperator='\\n', text_template='{metadata_str}\\n\\n{content}'), score=0.5363815111086373)]"
      ]
     },
     "execution_count": 4,
     "metadata": {},
     "output_type": "execute_result"
    }
   ],
   "source": [
    "query_str='如何从锁定状态唤醒中央显示器?'\n",
    "response = query_engine.query(query_str)\n",
    "print(response)\n",
    "response.source_nodes"
   ]
  },
  {
   "cell_type": "code",
   "execution_count": 5,
   "metadata": {},
   "outputs": [
    {
     "name": "stdout",
     "output_type": "stream",
     "text": [
      "后雨刮和洗涤器的操作如下：\n",
      "\n",
      "- 将拨杆沿远离方向盘的方向推动，可以启动后挡风玻璃雨刮和洗涤器。\n",
      "- 按压拨杆末端上方区域，可激活后挡风玻璃间歇性刮刷模式。\n",
      "- 按压拨杆末端下方区域，则启动后挡风玻璃连续刮刷模式。\n",
      "\n",
      "注意事项包括：\n",
      "\n",
      "- 冬季使用前，请先清除挡风玻璃上的冰和积雪，并确保雨刮片未冻结在挡风玻璃上。\n",
      "- 若挡风玻璃上有尘沙、鸟粪、昆虫、树浆等异物，建议先行清洁后再使用雨刮器，以防止损坏雨刮片或影响其清洁效果。\n",
      "- 避免在挡风玻璃干燥的情况下开启雨刮，以免造成雨刮片和挡风玻璃的损害。\n",
      "- 定期清洁并检查雨刮片，确保其正常工作；否则可能缩短使用寿命。\n",
      "- 使用合格的洗涤液，不合格的洗涤液可能导致洗涤器损坏。\n",
      "- 如发现雨刮片橡胶硬化或有裂纹、雨刮片在挡风玻璃上留下划痕或无法有效清洁某个区域，则需更换雨刮片。\n"
     ]
    },
    {
     "data": {
      "text/plain": [
       "[NodeWithScore(node=TextNode(id_='83a16638-d289-4582-994e-5f838dd75795', embedding=None, metadata={'file_path': 'c:\\\\CodeRepos\\\\python\\\\MyCode\\\\DocumentsIntelligentAssistant\\\\preprocess\\\\doc66-驾驶前的准备-50.md', 'file_name': 'doc66-驾驶前的准备-50.md', 'file_size': 1303, 'creation_date': '2024-12-19', 'last_modified_date': '2024-12-19'}, excluded_embed_metadata_keys=['file_name', 'file_type', 'file_size', 'creation_date', 'last_modified_date', 'last_accessed_date'], excluded_llm_metadata_keys=['file_name', 'file_type', 'file_size', 'creation_date', 'last_modified_date', 'last_accessed_date'], relationships={<NodeRelationship.SOURCE: '1'>: RelatedNodeInfo(node_id='69545f79-5158-4021-b343-e0372d76b80c', node_type='4', metadata={'file_path': 'c:\\\\CodeRepos\\\\python\\\\MyCode\\\\DocumentsIntelligentAssistant\\\\preprocess\\\\doc66-驾驶前的准备-50.md', 'file_name': 'doc66-驾驶前的准备-50.md', 'file_size': 1303, 'creation_date': '2024-12-19', 'last_modified_date': '2024-12-19'}, hash='3918e05d6ffd8e62591b70f98a9e999b5306d5d9c36892537993e06b2eca6998')}, metadata_template='{key}: {value}', metadata_separator='\\n', text='后雨刮和洗涤器\\n!将拨杆沿远离方向盘的方向推动，启动后挡风玻璃雨刮和洗涤器。\\r\\n按压拨杆末端上方区域，启动后挡风玻璃间歇性刮刷模\\r\\n式。\\r\\n按压拨杆末端下方区域，启动后挡风玻璃连续刮刷模式。\\r\\n注意！\\r\\n■冬季使用雨刮前，请先清除挡风玻璃上的冰和积雪并确认雨刮片\\r\\n没有冻结在挡风玻璃上。\\r\\n■当挡风玻璃上有尘沙、鸟粪、昆虫、树浆等异物时，请先清洁挡\\r\\n风玻璃，否则会损坏雨刮片/影响雨刮片清洁效果。\\r\\n■避免在挡风玻璃干燥的情况下开启雨刮，否则可能导致雨刮片和\\r\\n挡风玻璃损坏。\\r\\n■定期清洁和检查雨刮片，否则雨刮片使用寿命可能会缩短。\\r\\n■应使用合格的洗涤液，不合格的洗涤液可能导致洗涤器损坏。\\r\\n■如果发现雨刮片橡胶硬化或有裂纹、雨刮片在挡风玻璃上留下划\\r\\n痕或不能刮洗某个区域，则需要更换雨刮片。', mimetype='text/plain', start_char_idx=2, end_char_idx=354, metadata_seperator='\\n', text_template='{metadata_str}\\n\\n{content}'), score=0.6026622250798223),\n",
       " NodeWithScore(node=TextNode(id_='98437a39-c4aa-4655-a407-a2dabfbf63a6', embedding=None, metadata={'file_path': 'c:\\\\CodeRepos\\\\python\\\\MyCode\\\\DocumentsIntelligentAssistant\\\\preprocess\\\\doc64-驾驶前的准备-49.md', 'file_name': 'doc64-驾驶前的准备-49.md', 'file_size': 1919, 'creation_date': '2024-12-19', 'last_modified_date': '2024-12-19'}, excluded_embed_metadata_keys=['file_name', 'file_type', 'file_size', 'creation_date', 'last_modified_date', 'last_accessed_date'], excluded_llm_metadata_keys=['file_name', 'file_type', 'file_size', 'creation_date', 'last_modified_date', 'last_accessed_date'], relationships={<NodeRelationship.SOURCE: '1'>: RelatedNodeInfo(node_id='60c3c756-4478-4cd6-a1a1-10cba76c2659', node_type='4', metadata={'file_path': 'c:\\\\CodeRepos\\\\python\\\\MyCode\\\\DocumentsIntelligentAssistant\\\\preprocess\\\\doc64-驾驶前的准备-49.md', 'file_name': 'doc64-驾驶前的准备-49.md', 'file_size': 1919, 'creation_date': '2024-12-19', 'last_modified_date': '2024-12-19'}, hash='b70f784da484ab5b4184296e720e1f168ea939b44dd5dfc7c51b5133c1e6e3b7')}, metadata_template='{key}: {value}', metadata_separator='\\n', text='前雨刮和洗涤器\\n!从0位置向下移动拨杆，雨刮自动刮刷一次。\\r\\n拨杆移动至该位置，关闭雨刮。\\r\\n拨杆移至该位置时，启用自动雨刷功能。\\r\\n拨杆移至该位置时，雨刮将按照正常速度工作。\\r\\n拨杆移至该位置时，雨刮工作速度会加快。\\r\\n注意！\\r\\n■冬季使用雨刮前，请先清除挡风玻璃上的冰和积雪并确认雨刮片\\r\\n没有冻结在挡风玻璃上。\\r\\n■当挡风玻璃上有尘沙、鸟粪、昆虫、树浆等异物时，请先清洁挡\\r\\n风玻璃，否则会损坏雨刮片/影响雨刮片清洁效果。\\r\\n■避免在挡风玻璃干燥的情况下开启雨刮，否则可能导致雨刮片和\\r\\n挡风玻璃损坏。\\r\\n■定期清洁和检查雨刮片，否则雨刮片使用寿命可能会缩短。\\r\\n■应使用合格的洗涤液，不合格的洗涤液可能导致洗涤器损坏。\\r\\n■如果发现雨刮片橡胶硬化或有裂纹、雨刮片在挡风玻璃上留下划\\r\\n痕或不能刮洗某个区域，则需要更换雨刮片。', mimetype='text/plain', start_char_idx=2, end_char_idx=368, metadata_seperator='\\n', text_template='{metadata_str}\\n\\n{content}'), score=0.5622325971566511),\n",
       " NodeWithScore(node=TextNode(id_='d259a374-3bc3-4340-8fd1-908664ce6c6c', embedding=None, metadata={'file_path': 'c:\\\\CodeRepos\\\\python\\\\MyCode\\\\DocumentsIntelligentAssistant\\\\preprocess\\\\doc64-驾驶前的准备-49.md', 'file_name': 'doc64-驾驶前的准备-49.md', 'file_size': 1919, 'creation_date': '2024-12-19', 'last_modified_date': '2024-12-19'}, excluded_embed_metadata_keys=['file_name', 'file_type', 'file_size', 'creation_date', 'last_modified_date', 'last_accessed_date'], excluded_llm_metadata_keys=['file_name', 'file_type', 'file_size', 'creation_date', 'last_modified_date', 'last_accessed_date'], relationships={<NodeRelationship.SOURCE: '1'>: RelatedNodeInfo(node_id='8f579fbd-45ba-4108-ba6e-a3ae7e36ab24', node_type='4', metadata={'file_path': 'c:\\\\CodeRepos\\\\python\\\\MyCode\\\\DocumentsIntelligentAssistant\\\\preprocess\\\\doc64-驾驶前的准备-49.md', 'file_name': 'doc64-驾驶前的准备-49.md', 'file_size': 1919, 'creation_date': '2024-12-19', 'last_modified_date': '2024-12-19'}, hash='9bf7e88199fd569b036f43b627fd866414a4245cceb4dd6c0e0a30535e7976ed')}, metadata_template='{key}: {value}', metadata_separator='\\n', text='雨量感应式自动雨刷\\n!旋转雨刮拨杆上的滚轮，调节雨刮刮刷速度\\r\\n雨量光线传感器安装在挡风玻璃上部，内后视镜三角区域。当拨杆位\\r\\n于自动挡位（AUTO）时，雨量光线传感器会根据降雨强度自动开启/\\r\\n关闭雨刮及调节雨刮刮刷速度。向上旋转滚轮，增加自动雨刷灵敏\\r\\n度；向下旋转滚轮，降低自动雨刷灵敏度。\\r\\n注意！\\r\\n■雨刮片处于维修位置或使用自动洗车机清洗车辆前，先停用自动\\r\\n刮刷，否则雨刮可能会意外开启，造成不必要的损坏。', mimetype='text/plain', start_char_idx=2, end_char_idx=212, metadata_seperator='\\n', text_template='{metadata_str}\\n\\n{content}'), score=0.5147883717455073)]"
      ]
     },
     "execution_count": 5,
     "metadata": {},
     "output_type": "execute_result"
    }
   ],
   "source": [
    "query_str='后雨刮和洗涤器?'\n",
    "response = query_engine.query(query_str)\n",
    "print(response)\n",
    "response.source_nodes"
   ]
  },
  {
   "cell_type": "code",
   "execution_count": 6,
   "metadata": {},
   "outputs": [
    {
     "name": "stdout",
     "output_type": "stream",
     "text": [
      "安全带应使用专用清洁剂和海绵进行清洁。清洁后，请将安全带置于阴凉处彻底干燥再使用。切勿使用漂白剂、染料或化学溶剂，因为这些材料可能严重削弱安全带的织物性能。\n"
     ]
    },
    {
     "data": {
      "text/plain": [
       "[NodeWithScore(node=TextNode(id_='1cb4ddad-6deb-4920-8865-d6d82978339f', embedding=None, metadata={'file_path': 'c:\\\\CodeRepos\\\\python\\\\MyCode\\\\DocumentsIntelligentAssistant\\\\preprocess\\\\doc100-安全出行-74.md', 'file_name': 'doc100-安全出行-74.md', 'file_size': 3335, 'creation_date': '2024-12-19', 'last_modified_date': '2024-12-19'}, excluded_embed_metadata_keys=['file_name', 'file_type', 'file_size', 'creation_date', 'last_modified_date', 'last_accessed_date'], excluded_llm_metadata_keys=['file_name', 'file_type', 'file_size', 'creation_date', 'last_modified_date', 'last_accessed_date'], relationships={<NodeRelationship.SOURCE: '1'>: RelatedNodeInfo(node_id='7542fcbd-b054-4586-a8b2-63a1835a8f8a', node_type='4', metadata={'file_path': 'c:\\\\CodeRepos\\\\python\\\\MyCode\\\\DocumentsIntelligentAssistant\\\\preprocess\\\\doc100-安全出行-74.md', 'file_name': 'doc100-安全出行-74.md', 'file_size': 3335, 'creation_date': '2024-12-19', 'last_modified_date': '2024-12-19'}, hash='665a2f62c5a74db0689d740b8eb58ab00f04c7cad3be9dc650e654c87d778b8a')}, metadata_template='{key}: {value}', metadata_separator='\\n', text='安全带清洁\\n请使用安全带专用清洁剂和海绵来清洁安全带。请将安全带置于阴凉\\r\\n处彻底干燥后再使用。\\r\\n警告！\\r\\n■切勿使用漂白剂、染料或化学溶剂清洁安全带。这些材料可能严\\r\\n重削弱安全带的织物性能。', mimetype='text/plain', start_char_idx=2, end_char_idx=100, metadata_seperator='\\n', text_template='{metadata_str}\\n\\n{content}'), score=0.5921137684645591),\n",
       " NodeWithScore(node=TextNode(id_='d1150b36-f037-422a-83b4-0ccfd702b55c', embedding=None, metadata={'file_path': 'c:\\\\CodeRepos\\\\python\\\\MyCode\\\\DocumentsIntelligentAssistant\\\\preprocess\\\\doc100-安全出行-74.md', 'file_name': 'doc100-安全出行-74.md', 'file_size': 3335, 'creation_date': '2024-12-19', 'last_modified_date': '2024-12-19'}, excluded_embed_metadata_keys=['file_name', 'file_type', 'file_size', 'creation_date', 'last_modified_date', 'last_accessed_date'], excluded_llm_metadata_keys=['file_name', 'file_type', 'file_size', 'creation_date', 'last_modified_date', 'last_accessed_date'], relationships={<NodeRelationship.SOURCE: '1'>: RelatedNodeInfo(node_id='3c217dee-40ad-4562-823e-44ddb779d302', node_type='4', metadata={'file_path': 'c:\\\\CodeRepos\\\\python\\\\MyCode\\\\DocumentsIntelligentAssistant\\\\preprocess\\\\doc100-安全出行-74.md', 'file_name': 'doc100-安全出行-74.md', 'file_size': 3335, 'creation_date': '2024-12-19', 'last_modified_date': '2024-12-19'}, hash='44c1b2aa316621b16b336e0fb94c828c9aca0b86398bec1ff9631164afa85568')}, metadata_template='{key}: {value}', metadata_separator='\\n', text='安全带检查\\n安全带属于重要安全部件，请每次行车前按照以下步骤对安全带进行\\r\\n检查。若存在异常情况，请立即联系Lynk & Co领克中心。\\r\\n■检查安全带是否存在扭曲、脏污的情况。\\r\\n■检查安全带是否存在严重磨损、割伤、烧伤的情况。\\r\\n■将安全带锁舌插入锁扣，直到听到“咔哒”声，反方向拉锁舌，\\r\\n检查安全带锁扣固定情况。\\r\\n■快速拉动安全带，检查安全带自动缩回/拉紧情况。', mimetype='text/plain', start_char_idx=2, end_char_idx=188, metadata_seperator='\\n', text_template='{metadata_str}\\n\\n{content}'), score=0.5237591350978082),\n",
       " NodeWithScore(node=TextNode(id_='1ffdadef-18cf-4363-b23e-edb3a868b2d1', embedding=None, metadata={'file_path': 'c:\\\\CodeRepos\\\\python\\\\MyCode\\\\DocumentsIntelligentAssistant\\\\preprocess\\\\doc102-安全出行-75.md', 'file_name': 'doc102-安全出行-75.md', 'file_size': 2053, 'creation_date': '2024-12-19', 'last_modified_date': '2024-12-19'}, excluded_embed_metadata_keys=['file_name', 'file_type', 'file_size', 'creation_date', 'last_modified_date', 'last_accessed_date'], excluded_llm_metadata_keys=['file_name', 'file_type', 'file_size', 'creation_date', 'last_modified_date', 'last_accessed_date'], relationships={<NodeRelationship.SOURCE: '1'>: RelatedNodeInfo(node_id='5d336575-2b6d-4897-aae3-012b33283908', node_type='4', metadata={'file_path': 'c:\\\\CodeRepos\\\\python\\\\MyCode\\\\DocumentsIntelligentAssistant\\\\preprocess\\\\doc102-安全出行-75.md', 'file_name': 'doc102-安全出行-75.md', 'file_size': 2053, 'creation_date': '2024-12-19', 'last_modified_date': '2024-12-19'}, hash='5a2fbeda48af115470e9828fd00f1c02bba232bc38d77fe29b267936e36d255f')}, metadata_template='{key}: {value}', metadata_separator='\\n', text='系紧安全带\\n1 调节座椅到合适位置。\\r\\n2 缓慢拉出安全带，将锁舌插入锁扣中，直到听见“咔哒”声。\\r\\n3\\r\\n使腰部安全带应尽可能低的横跨于胯部。\\r\\n确保肩部安全带斜跨整个肩部，穿过胸部。\\r\\n!4 将前排座椅安全带高度调整至合适的位置。\\r\\n!捏住调节机构，上下调节安全带高度至合适位置。\\r\\n警告！\\r\\n■请勿将座椅靠背太过向后倾斜。\\r\\n■请在系紧安全带前检查锁扣插口是否存在异物（如：食物残渣\\r\\n等），若存在异物请及时取出。\\r\\n■为确保安全带正常工作，请务必将安全带插入与之匹配的锁扣\\r\\n中。\\r\\n■乘坐时，安全带必须拉紧，防止松垮，并确保其牢固贴身，无扭\\r\\n曲。\\r\\n■切勿将安全带从您的后背绕过、从您的胳膊下面绕过或绕过您的\\r\\n颈部。安全带应远离您的面部和颈部，但不得从肩部滑落。\\r\\n■如果安全带无法正常使用，请联系Lynk & Co领克中心进行处理。', mimetype='text/plain', start_char_idx=2, end_char_idx=376, metadata_seperator='\\n', text_template='{metadata_str}\\n\\n{content}'), score=0.4967894934009539)]"
      ]
     },
     "execution_count": 6,
     "metadata": {},
     "output_type": "execute_result"
    }
   ],
   "source": [
    "query_str='安全带如何清洁?'\n",
    "response = query_engine.query(query_str)\n",
    "print(response)\n",
    "response.source_nodes"
   ]
  },
  {
   "cell_type": "code",
   "execution_count": 7,
   "metadata": {},
   "outputs": [
    {
     "name": "stdout",
     "output_type": "stream",
     "text": [
      "组合仪表的内容如下：\n",
      "\n",
      "1. 左侧信息显示区域：展示当前车速、驾驶员辅助系统等相关信息。\n",
      "2. 挡位指示图标：显示车辆的当前挡位。\n",
      "3. 右侧信息显示区域：包含多媒体、电话、胎压及行程信息等，并会根据车辆状态弹出相应的报警提示信息。\n",
      "4. 纯电可续航里程：仅依赖动力电池剩余电量可行驶的距离。\n",
      "5. 动力电池电量：显示动力电池的电量水平。\n",
      "6. 能量回收等级：表示当前能量回收系统的强度，分为自动、低、中、高等级。\n",
      "7. 驾驶模式：指示车辆目前所处的驾驶模式。\n",
      "8. 燃油量表：展示油箱内剩余燃油的油位。\n",
      "9. 剩余燃油可续航里程：显示当前剩余燃油可以行驶的距离。\n",
      "\n",
      "这些信息有助于驾驶员实时了解车辆状态和运行情况。\n"
     ]
    },
    {
     "data": {
      "text/plain": [
       "[NodeWithScore(node=TextNode(id_='892928a8-0ffb-47bd-b3e6-d452bf20810e', embedding=None, metadata={'file_path': 'c:\\\\CodeRepos\\\\python\\\\MyCode\\\\DocumentsIntelligentAssistant\\\\preprocess\\\\doc69-仪表和灯光-51.md', 'file_name': 'doc69-仪表和灯光-51.md', 'file_size': 772, 'creation_date': '2024-12-19', 'last_modified_date': '2024-12-19'}, excluded_embed_metadata_keys=['file_name', 'file_type', 'file_size', 'creation_date', 'last_modified_date', 'last_accessed_date'], excluded_llm_metadata_keys=['file_name', 'file_type', 'file_size', 'creation_date', 'last_modified_date', 'last_accessed_date'], relationships={<NodeRelationship.SOURCE: '1'>: RelatedNodeInfo(node_id='aa5d55d7-a873-4e3f-9c47-ff6ea413aefe', node_type='4', metadata={'file_path': 'c:\\\\CodeRepos\\\\python\\\\MyCode\\\\DocumentsIntelligentAssistant\\\\preprocess\\\\doc69-仪表和灯光-51.md', 'file_name': 'doc69-仪表和灯光-51.md', 'file_size': 772, 'creation_date': '2024-12-19', 'last_modified_date': '2024-12-19'}, hash='cba931e110afb7f9771383090d6c4c87ea32d3717a7623452b4480fdc9a41bc5')}, metadata_template='{key}: {value}', metadata_separator='\\n', text='组合仪表\\n!01 左侧信息显示区域：显示车辆当前车速、驾驶员辅助系统等相\\r\\n关信息。\\r\\n02挡位指示图标：显示车辆当前挡位。\\r\\n03右侧信息显示区域：显示多媒体、电话、胎压、车辆行程信息\\r\\n等，同时会根据车辆状态弹出相应的报警提示信息。\\r\\n04纯电可续航里程：显示仅依靠动力电池剩余电量可行驶的距\\r\\n离。\\r\\n05动力电池电量：显示动力电池电量。\\r\\n06能量回收等级：显示车辆当前能量回收等级（自动、低、中、\\r\\n高）。\\r\\n07驾驶模式：显示当前车辆的驾驶模式。\\r\\n08燃油量表：显示油箱中剩余的燃油油位。\\r\\n09剩余燃油可续航里程：显示剩余燃油可行驶的距离。', mimetype='text/plain', start_char_idx=2, end_char_idx=280, metadata_seperator='\\n', text_template='{metadata_str}\\n\\n{content}'), score=0.5122670198293198),\n",
       " NodeWithScore(node=TextNode(id_='aae7ba57-6604-4fac-99ef-0bd8c0346f66', embedding=None, metadata={'file_path': 'c:\\\\CodeRepos\\\\python\\\\MyCode\\\\DocumentsIntelligentAssistant\\\\preprocess\\\\doc82-仪表和灯光-55.md', 'file_name': 'doc82-仪表和灯光-55.md', 'file_size': 1956, 'creation_date': '2024-12-19', 'last_modified_date': '2024-12-19'}, excluded_embed_metadata_keys=['file_name', 'file_type', 'file_size', 'creation_date', 'last_modified_date', 'last_accessed_date'], excluded_llm_metadata_keys=['file_name', 'file_type', 'file_size', 'creation_date', 'last_modified_date', 'last_accessed_date'], relationships={<NodeRelationship.SOURCE: '1'>: RelatedNodeInfo(node_id='957ecc94-712b-428a-9fea-a60f5779d74d', node_type='4', metadata={'file_path': 'c:\\\\CodeRepos\\\\python\\\\MyCode\\\\DocumentsIntelligentAssistant\\\\preprocess\\\\doc82-仪表和灯光-55.md', 'file_name': 'doc82-仪表和灯光-55.md', 'file_size': 1956, 'creation_date': '2024-12-19', 'last_modified_date': '2024-12-19'}, hash='f1585076c05609b40340c768d937b196b67c19d1ed14c45147561ae7e5ca2f59')}, metadata_template='{key}: {value}', metadata_separator='\\n', text='组合仪表设置菜单\\n1 按下方向盘\\r\\n，打开组合仪表设置菜单。\\r\\n2 按下方向盘右侧向左/向右按键，切换组合仪表一级菜单设置\\r\\n项；按下方向盘右侧向上/向下按键，切换组合仪表二级菜单设\\r\\n置项。\\r\\n!01 组合仪表设置项（行程信息、导航、多媒体、电话）。\\r\\n02组合仪表二级菜单设置项（不同组合仪表一级菜单设置项\\r\\n下，组合仪表二级菜单设置项不同）。\\r\\n■行程信息：可以查看车辆状态、胎压状态、机油状态等信息。\\r\\n■导航：可以设置“家”和“公司”两个快捷地址。\\r\\n■多媒体：可以播放音乐等。\\r\\n■电话：通过通话记录可以拨打电话等。\\r\\n说明！\\r\\n□当组合仪表显示车门/安全带提醒界面时，只有先按下方向盘右\\r\\n侧确认按键，再按下方向盘的\\r\\n，才能打开组合仪表设置菜单。', mimetype='text/plain', start_char_idx=2, end_char_idx=333, metadata_seperator='\\n', text_template='{metadata_str}\\n\\n{content}'), score=0.5070046324279104),\n",
       " NodeWithScore(node=TextNode(id_='53eafc97-b7d3-4e8c-b6d0-72c07c6e0958', embedding=None, metadata={'file_path': 'c:\\\\CodeRepos\\\\python\\\\MyCode\\\\DocumentsIntelligentAssistant\\\\preprocess\\\\doc80-仪表和灯光-54.md', 'file_name': 'doc80-仪表和灯光-54.md', 'file_size': 2011, 'creation_date': '2024-12-19', 'last_modified_date': '2024-12-19'}, excluded_embed_metadata_keys=['file_name', 'file_type', 'file_size', 'creation_date', 'last_modified_date', 'last_accessed_date'], excluded_llm_metadata_keys=['file_name', 'file_type', 'file_size', 'creation_date', 'last_modified_date', 'last_accessed_date'], relationships={<NodeRelationship.SOURCE: '1'>: RelatedNodeInfo(node_id='0907b62c-c943-4dcd-8a47-ff8271bfa005', node_type='4', metadata={'file_path': 'c:\\\\CodeRepos\\\\python\\\\MyCode\\\\DocumentsIntelligentAssistant\\\\preprocess\\\\doc80-仪表和灯光-54.md', 'file_name': 'doc80-仪表和灯光-54.md', 'file_size': 2011, 'creation_date': '2024-12-19', 'last_modified_date': '2024-12-19'}, hash='040f2bbea2ad4db3342a846a8937519f79328088ffd926f0d7d9cfca3d7b15c5')}, metadata_template='{key}: {value}', metadata_separator='\\n', text='组合仪表设置菜单\\n1 按下方向盘\\r\\n，打开组合仪表设置菜单。\\r\\n2 按下方向盘右侧向左/向右按键，切换组合仪表一级菜单设置\\r\\n项；按下方向盘右侧向上/向下按键，切换组合仪表二级菜单设\\r\\n置项。\\r\\n!01 组合仪表设置项（行程信息、导航、多媒体、电话、HUD\\r\\n设置）。\\r\\n02组合仪表二级菜单设置项（不同组合仪表一级菜单设置项\\r\\n下，组合仪表二级菜单设置项不同）。\\r\\n■行程信息：可以查看车辆状态、胎压状态、机油状态等信息。\\r\\n■导航：可以设置“家”和“公司”两个快捷地址。\\r\\n■多媒体：可以播放音乐等。\\r\\n■电话：通过通话记录可以拨打电话等。\\r\\n■HUD设置：可以设置HUD功能。\\r\\n说明！\\r\\n□当组合仪表显示车门/安全带提醒界面时，只有先按下方向盘右\\r\\n侧确认按键，再按下方向盘的\\r\\n，才能打开组合仪表设置菜单。', mimetype='text/plain', start_char_idx=2, end_char_idx=360, metadata_seperator='\\n', text_template='{metadata_str}\\n\\n{content}'), score=0.49574716158429133)]"
      ]
     },
     "execution_count": 7,
     "metadata": {},
     "output_type": "execute_result"
    }
   ],
   "source": [
    "query_str='组合仪表内容介绍？'\n",
    "response = query_engine.query(query_str)\n",
    "print(response)\n",
    "response.source_nodes"
   ]
  },
  {
   "cell_type": "code",
   "execution_count": 8,
   "metadata": {},
   "outputs": [
    {
     "name": "stdout",
     "output_type": "stream",
     "text": [
      "遥控泊车（RPA）是一种远程泊车控制功能，允许在车外一定范围内通过Lynk & Co App控制车辆进行泊入、泊出、直线前进或后退。主要包含的功能有：直线遥控功能、遥控泊入功能和遥控泊出功能。使用该功能前需要阅读并同意免责声明，并且驾驶员仍需注意观察周围环境，以确保行车安全。\n"
     ]
    },
    {
     "data": {
      "text/plain": [
       "[NodeWithScore(node=TextNode(id_='67d50b41-d8bd-4cbb-b2ef-fc181d34dff1', embedding=None, metadata={'file_path': 'c:\\\\CodeRepos\\\\python\\\\MyCode\\\\DocumentsIntelligentAssistant\\\\preprocess\\\\doc236-泊车-152.md', 'file_name': 'doc236-泊车-152.md', 'file_size': 5351, 'creation_date': '2024-12-19', 'last_modified_date': '2024-12-19'}, excluded_embed_metadata_keys=['file_name', 'file_type', 'file_size', 'creation_date', 'last_modified_date', 'last_accessed_date'], excluded_llm_metadata_keys=['file_name', 'file_type', 'file_size', 'creation_date', 'last_modified_date', 'last_accessed_date'], relationships={<NodeRelationship.SOURCE: '1'>: RelatedNodeInfo(node_id='066641fc-ad8c-411d-bf32-774e253071a9', node_type='4', metadata={'file_path': 'c:\\\\CodeRepos\\\\python\\\\MyCode\\\\DocumentsIntelligentAssistant\\\\preprocess\\\\doc236-泊车-152.md', 'file_name': 'doc236-泊车-152.md', 'file_size': 5351, 'creation_date': '2024-12-19', 'last_modified_date': '2024-12-19'}, hash='794a631c5d956f1ec5707d1d7f3dcd15a7384fe3ff414147d18f441e0c41fe2e')}, metadata_template='{key}: {value}', metadata_separator='\\n', text='遥控泊车\\n遥控泊车（RPA）是一种远程泊车控制功能，可在车外一定范围内使\\r\\n用Lynk & Co App控制车辆进行泊入、泊出、直线前进或后退。\\r\\nRPA主要包含以下功能：\\r\\n■直线遥控功能。\\r\\n■遥控泊入功能。\\r\\n■遥控泊出功能。\\r\\n说明！\\r\\n□通过Lynk & Co App使用RPA功能前需要阅读并同意免责声明，因\\r\\n此请认真阅读免责声明，确保在已知晓并接受相关条件或条款的\\r\\n情况下开启并使RPA功能。\\r\\n□遥控泊车辅助在泊车入位过程中会代替驾驶员执行转向和制动的\\r\\n操作，但驾驶员仍需注意观察周围环境，必要时结束泊车过程，\\r\\n以避免某些障碍物因系统无法识别而影响行车安全。\\r\\n□作为驾驶员，您应遵守相关法律要求，并对安全停车承担全部责\\r\\n任。\\r\\nRPA可支持三种车位：水平车位、垂直车位、斜列车位。\\r\\n!说明\\r\\n□RPA工作时车辆会自动执行转向和制动操作。', mimetype='text/plain', start_char_idx=2, end_char_idx=385, metadata_seperator='\\n', text_template='{metadata_str}\\n\\n{content}'), score=0.7565838677959689),\n",
       " NodeWithScore(node=TextNode(id_='7a6889fc-c91a-42c3-9b4c-c3aa5f79c210', embedding=None, metadata={'file_path': 'c:\\\\CodeRepos\\\\python\\\\MyCode\\\\DocumentsIntelligentAssistant\\\\preprocess\\\\doc236-泊车-152.md', 'file_name': 'doc236-泊车-152.md', 'file_size': 5351, 'creation_date': '2024-12-19', 'last_modified_date': '2024-12-19'}, excluded_embed_metadata_keys=['file_name', 'file_type', 'file_size', 'creation_date', 'last_modified_date', 'last_accessed_date'], excluded_llm_metadata_keys=['file_name', 'file_type', 'file_size', 'creation_date', 'last_modified_date', 'last_accessed_date'], relationships={<NodeRelationship.SOURCE: '1'>: RelatedNodeInfo(node_id='3daab7c6-aa1b-4027-901b-d3a743a44059', node_type='4', metadata={'file_path': 'c:\\\\CodeRepos\\\\python\\\\MyCode\\\\DocumentsIntelligentAssistant\\\\preprocess\\\\doc236-泊车-152.md', 'file_name': 'doc236-泊车-152.md', 'file_size': 5351, 'creation_date': '2024-12-19', 'last_modified_date': '2024-12-19'}, hash='eda4db09dd33924d126d97275a8d15b4f37126b4c03c9d37685533687cabb763')}, metadata_template='{key}: {value}', metadata_separator='\\n', text='的局限性\\nRPA使用泊车辅助传感器和泊车辅助摄像头检测外界障碍物。RPA传\\r\\n感器可能对高度较低的障碍物、车身上方或侧面障碍物、较狭窄物体\\r\\n等类型的障碍物检测受限，您需要始终关注周边环境，否则可能导致\\r\\n财产损失或人身伤害，包括但不限于：\\r\\n■行人、儿童、动物。\\r\\n■开启的地锁，低矮石墩、圆柱体、细杆、尖锐物体，地面的坑洞\\r\\n等。\\r\\n■限高门，杆或悬空的结构物。\\r\\n■车身侧方可能导致碰撞和刮擦的障碍物。\\r\\n■自行车，墙角，停车场方柱边角等。\\r\\n警告！\\r\\n■使用RPA功能前，确保车辆附近没有人员或障碍物，并时刻观察\\r\\n车辆附近环境，必要时暂停RPA功能。\\r\\n■使用RPA功能前，请确保方向盘已回正。\\r\\n■请勿在车内使用RPA功能。\\r\\n■请勿在有坡度、积雪、积水、凹坑等道路使用RPA功能。\\r\\n■RPA功能激活后，用户从Lynk & Co App上松开前进或后退按键，\\r\\n由于存在时延，车辆仍会运动一段距离，意识到有碰撞风险请提\\r\\n前松开按键。\\r\\n■泊车辅助传感器仅在探测到障碍物时发出警告，因此可能不会发\\r\\n出警告信息或延迟发出警告信息，也可能发出不必要的警告信\\r\\n息。您始终有责任安全审慎地遥控车辆，完全依赖泊车辅助传感\\r\\n器对潜在碰撞进行警告可能会造成严重人身伤害和财产损失（包\\r\\n括车辆损坏）。\\r\\n■请确保所有泊车辅助摄像头和泊车辅助传感器表面无覆盖物或无\\r\\n脏污，否则会影响RPA功能的性能，可能会导致与周围障碍物发\\r\\n生刮蹭。\\r\\n■在雨雪天气下受到强光直射，可能会影响泊车辅助摄像头和泊车\\r\\n辅助传感器等传感器的工作性能，导致RPA功能性能下降，可能\\r\\n会导致与周围障碍物发生挂蹭。\\r\\n■RPA功能仅限用户在车辆周围环境可预测的停车场或车库使用。\\r\\n■RPA功能的性能取决于泊车辅助传感器探测到的障碍物、车辆、\\r\\n人或其他物体与车辆的距离接近程度。\\r\\n说明！\\r\\n□使用RPA功能前，请确保车门、尾门、前舱盖均已关闭且车辆闭\\r\\n锁。\\r\\n□RPA功能激活至车辆运动时间较长，请耐心等待。\\r\\n□蓝牙信号不稳定时，RPA功能可能会退出。', mimetype='text/plain', start_char_idx=2, end_char_idx=874, metadata_seperator='\\n', text_template='{metadata_str}\\n\\n{content}'), score=0.6416073030229329),\n",
       " NodeWithScore(node=TextNode(id_='a6b3ca44-7d4f-44a3-861e-17f69e79b465', embedding=None, metadata={'file_path': 'c:\\\\CodeRepos\\\\python\\\\MyCode\\\\DocumentsIntelligentAssistant\\\\preprocess\\\\doc236-泊车-152.md', 'file_name': 'doc236-泊车-152.md', 'file_size': 5351, 'creation_date': '2024-12-19', 'last_modified_date': '2024-12-19'}, excluded_embed_metadata_keys=['file_name', 'file_type', 'file_size', 'creation_date', 'last_modified_date', 'last_accessed_date'], excluded_llm_metadata_keys=['file_name', 'file_type', 'file_size', 'creation_date', 'last_modified_date', 'last_accessed_date'], relationships={<NodeRelationship.SOURCE: '1'>: RelatedNodeInfo(node_id='ffa65e0e-a003-4497-a866-dee53bc30cbc', node_type='4', metadata={'file_path': 'c:\\\\CodeRepos\\\\python\\\\MyCode\\\\DocumentsIntelligentAssistant\\\\preprocess\\\\doc236-泊车-152.md', 'file_name': 'doc236-泊车-152.md', 'file_size': 5351, 'creation_date': '2024-12-19', 'last_modified_date': '2024-12-19'}, hash='01dba68f6f03850a48300e846acddb998ea540a3125defa2e97c59b1daac1df4')}, metadata_template='{key}: {value}', metadata_separator='\\n', text='直线遥控功能\\n启用RPA功能后，可以按照以下步骤控制车辆直线行驶：\\r\\n1 启用RPA：在Lynk & Co App主界面中点击\\r\\n功能按键，开启RPA\\r\\n功能。\\r\\n2 控制车辆：在RPA控制界面，控制车辆向前或向后移动。松开按\\r\\n键车辆静止。\\r\\n!01 长按\\r\\n控制车辆向前直线行驶。\\r\\n02长按\\r\\n控制车辆向前直线行驶。\\r\\n3 泊车完成：点击“结束”按键，退出直线遥控功能。\\r\\n说明！\\r\\n□每次直线前进或后退的移动距离有限制。', mimetype='text/plain', start_char_idx=2, end_char_idx=216, metadata_seperator='\\n', text_template='{metadata_str}\\n\\n{content}'), score=0.639486124230641)]"
      ]
     },
     "execution_count": 8,
     "metadata": {},
     "output_type": "execute_result"
    }
   ],
   "source": [
    "query_str='什么是遥控泊车（RPA）？'\n",
    "response = query_engine.query(query_str)\n",
    "print(response)\n",
    "response.source_nodes"
   ]
  }
 ],
 "metadata": {
  "kernelspec": {
   "display_name": "langchian",
   "language": "python",
   "name": "python3"
  },
  "language_info": {
   "codemirror_mode": {
    "name": "ipython",
    "version": 3
   },
   "file_extension": ".py",
   "mimetype": "text/x-python",
   "name": "python",
   "nbconvert_exporter": "python",
   "pygments_lexer": "ipython3",
   "version": "3.10.14"
  }
 },
 "nbformat": 4,
 "nbformat_minor": 2
}
